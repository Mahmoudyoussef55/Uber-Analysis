{
 "cells": [
  {
   "cell_type": "code",
   "execution_count": 750,
   "id": "3874557d",
   "metadata": {},
   "outputs": [],
   "source": [
    "import pandas as pd \n",
    "import numpy as np\n",
    "import matplotlib.pyplot as plt\n",
    "import seaborn as sns\n",
    "%matplotlib inline\n",
    "sns.set(rc = {'figure.figsize':(15,8)})\n"
   ]
  },
  {
   "cell_type": "markdown",
   "id": "4d19955b",
   "metadata": {},
   "source": [
    "## Questions\n",
    "    Note: the system runs with Km not Miles.\n",
    "      • For each purpose for each Category calculate the sum of kms driven\n",
    "      • Describe the kms of all trips\n",
    "      • Describe the speed of all trips\n",
    "      • KMS been driven from Fort Pierce to Fort Pierce and how many trips\n",
    "      • How many Trips in every start city and visualize the top 10\n",
    "      • How many trips driven in all Months of year and visualize the top 4 month descening\n",
    "      • How many trips driven in all days of week\n",
    "      • How many KMS driven in all period of the day and visualiaze them descending\n",
    "      • For each season for each category which has most driven count\n",
    "\n",
    "\n"
   ]
  },
  {
   "cell_type": "code",
   "execution_count": 751,
   "id": "a923d132",
   "metadata": {},
   "outputs": [],
   "source": [
    "df1=pd.read_csv('My Uber Drives - 2016.csv')"
   ]
  },
  {
   "cell_type": "code",
   "execution_count": 752,
   "id": "0ba01b34",
   "metadata": {},
   "outputs": [],
   "source": [
    "df=df1.copy()"
   ]
  },
  {
   "cell_type": "code",
   "execution_count": 753,
   "id": "c42da992",
   "metadata": {},
   "outputs": [
    {
     "data": {
      "text/html": [
       "<div>\n",
       "<style scoped>\n",
       "    .dataframe tbody tr th:only-of-type {\n",
       "        vertical-align: middle;\n",
       "    }\n",
       "\n",
       "    .dataframe tbody tr th {\n",
       "        vertical-align: top;\n",
       "    }\n",
       "\n",
       "    .dataframe thead th {\n",
       "        text-align: right;\n",
       "    }\n",
       "</style>\n",
       "<table border=\"1\" class=\"dataframe\">\n",
       "  <thead>\n",
       "    <tr style=\"text-align: right;\">\n",
       "      <th></th>\n",
       "      <th>START_DATE*</th>\n",
       "      <th>END_DATE*</th>\n",
       "      <th>CATEGORY*</th>\n",
       "      <th>START*</th>\n",
       "      <th>STOP*</th>\n",
       "      <th>MILES*</th>\n",
       "      <th>PURPOSE*</th>\n",
       "    </tr>\n",
       "  </thead>\n",
       "  <tbody>\n",
       "    <tr>\n",
       "      <th>0</th>\n",
       "      <td>1/1/2016 21:11</td>\n",
       "      <td>1/1/2016 21:17</td>\n",
       "      <td>Business</td>\n",
       "      <td>Fort Pierce</td>\n",
       "      <td>Fort Pierce</td>\n",
       "      <td>5.1</td>\n",
       "      <td>Meal/Entertain</td>\n",
       "    </tr>\n",
       "    <tr>\n",
       "      <th>1</th>\n",
       "      <td>1/2/2016 1:25</td>\n",
       "      <td>1/2/2016 1:37</td>\n",
       "      <td>Business</td>\n",
       "      <td>Fort Pierce</td>\n",
       "      <td>Fort Pierce</td>\n",
       "      <td>5.0</td>\n",
       "      <td>NaN</td>\n",
       "    </tr>\n",
       "    <tr>\n",
       "      <th>2</th>\n",
       "      <td>1/2/2016 20:25</td>\n",
       "      <td>1/2/2016 20:38</td>\n",
       "      <td>Business</td>\n",
       "      <td>Fort Pierce</td>\n",
       "      <td>Fort Pierce</td>\n",
       "      <td>4.8</td>\n",
       "      <td>Errand/Supplies</td>\n",
       "    </tr>\n",
       "    <tr>\n",
       "      <th>3</th>\n",
       "      <td>1/5/2016 17:31</td>\n",
       "      <td>1/5/2016 17:45</td>\n",
       "      <td>Business</td>\n",
       "      <td>Fort Pierce</td>\n",
       "      <td>Fort Pierce</td>\n",
       "      <td>4.7</td>\n",
       "      <td>Meeting</td>\n",
       "    </tr>\n",
       "    <tr>\n",
       "      <th>4</th>\n",
       "      <td>1/6/2016 14:42</td>\n",
       "      <td>1/6/2016 15:49</td>\n",
       "      <td>Business</td>\n",
       "      <td>Fort Pierce</td>\n",
       "      <td>West Palm Beach</td>\n",
       "      <td>63.7</td>\n",
       "      <td>Customer Visit</td>\n",
       "    </tr>\n",
       "  </tbody>\n",
       "</table>\n",
       "</div>"
      ],
      "text/plain": [
       "      START_DATE*       END_DATE* CATEGORY*       START*            STOP*  \\\n",
       "0  1/1/2016 21:11  1/1/2016 21:17  Business  Fort Pierce      Fort Pierce   \n",
       "1   1/2/2016 1:25   1/2/2016 1:37  Business  Fort Pierce      Fort Pierce   \n",
       "2  1/2/2016 20:25  1/2/2016 20:38  Business  Fort Pierce      Fort Pierce   \n",
       "3  1/5/2016 17:31  1/5/2016 17:45  Business  Fort Pierce      Fort Pierce   \n",
       "4  1/6/2016 14:42  1/6/2016 15:49  Business  Fort Pierce  West Palm Beach   \n",
       "\n",
       "   MILES*         PURPOSE*  \n",
       "0     5.1   Meal/Entertain  \n",
       "1     5.0              NaN  \n",
       "2     4.8  Errand/Supplies  \n",
       "3     4.7          Meeting  \n",
       "4    63.7   Customer Visit  "
      ]
     },
     "execution_count": 753,
     "metadata": {},
     "output_type": "execute_result"
    }
   ],
   "source": [
    "df.head()"
   ]
  },
  {
   "cell_type": "code",
   "execution_count": 754,
   "id": "cf7dcdd5",
   "metadata": {},
   "outputs": [],
   "source": [
    "## check duplicates"
   ]
  },
  {
   "cell_type": "code",
   "execution_count": 755,
   "id": "9d9c14d2",
   "metadata": {},
   "outputs": [
    {
     "data": {
      "text/plain": [
       "1"
      ]
     },
     "execution_count": 755,
     "metadata": {},
     "output_type": "execute_result"
    }
   ],
   "source": [
    "df.duplicated().sum()"
   ]
  },
  {
   "cell_type": "code",
   "execution_count": 756,
   "id": "d6b400fa",
   "metadata": {},
   "outputs": [],
   "source": [
    "df.drop_duplicates(inplace=True)"
   ]
  },
  {
   "cell_type": "code",
   "execution_count": 757,
   "id": "f8bffa34",
   "metadata": {},
   "outputs": [
    {
     "data": {
      "text/plain": [
       "0"
      ]
     },
     "execution_count": 757,
     "metadata": {},
     "output_type": "execute_result"
    }
   ],
   "source": [
    "df.duplicated().sum()"
   ]
  },
  {
   "cell_type": "code",
   "execution_count": 758,
   "id": "53945037",
   "metadata": {},
   "outputs": [],
   "source": [
    "## START WITH STEP 2 EDA process:\n",
    "    #### univariate analysis"
   ]
  },
  {
   "cell_type": "code",
   "execution_count": 759,
   "id": "f798f9d7",
   "metadata": {},
   "outputs": [
    {
     "name": "stdout",
     "output_type": "stream",
     "text": [
      "<class 'pandas.core.frame.DataFrame'>\n",
      "Int64Index: 1155 entries, 0 to 1155\n",
      "Data columns (total 7 columns):\n",
      " #   Column       Non-Null Count  Dtype  \n",
      "---  ------       --------------  -----  \n",
      " 0   START_DATE*  1155 non-null   object \n",
      " 1   END_DATE*    1154 non-null   object \n",
      " 2   CATEGORY*    1154 non-null   object \n",
      " 3   START*       1154 non-null   object \n",
      " 4   STOP*        1154 non-null   object \n",
      " 5   MILES*       1155 non-null   float64\n",
      " 6   PURPOSE*     652 non-null    object \n",
      "dtypes: float64(1), object(6)\n",
      "memory usage: 72.2+ KB\n"
     ]
    }
   ],
   "source": [
    "df.info()"
   ]
  },
  {
   "cell_type": "code",
   "execution_count": 760,
   "id": "f7a8c562",
   "metadata": {
    "collapsed": true
   },
   "outputs": [
    {
     "name": "stdout",
     "output_type": "stream",
     "text": [
      "START_DATE* 1/1/2016 21:11      1\n",
      "10/28/2016 11:34    1\n",
      "9/27/2016 19:14     1\n",
      "9/27/2016 13:21     1\n",
      "9/27/2016 8:33      1\n",
      "                   ..\n",
      "5/27/2016 20:47     1\n",
      "5/27/2016 20:26     1\n",
      "5/23/2016 21:09     1\n",
      "5/23/2016 20:19     1\n",
      "Totals              1\n",
      "Name: START_DATE*, Length: 1155, dtype: int64\n",
      "********************\n",
      "END_DATE* 1/1/2016 21:17      1\n",
      "10/27/2016 21:48    1\n",
      "9/27/2016 14:43     1\n",
      "9/27/2016 8:35      1\n",
      "9/24/2016 20:33     1\n",
      "                   ..\n",
      "5/27/2016 20:53     1\n",
      "5/27/2016 20:30     1\n",
      "5/23/2016 21:21     1\n",
      "5/23/2016 20:27     1\n",
      "12/31/2016 23:51    1\n",
      "Name: END_DATE*, Length: 1154, dtype: int64\n",
      "********************\n",
      "CATEGORY* Business    1077\n",
      "Personal      77\n",
      "Name: CATEGORY*, dtype: int64\n",
      "********************\n",
      "START* Cary             201\n",
      "Granta           148\n",
      "Morrisville       85\n",
      "Whitebridge       68\n",
      "Islamabad         57\n",
      "                ... \n",
      "Florence           1\n",
      "Ridgeland          1\n",
      "Daytona Beach      1\n",
      "Sky Lake           1\n",
      "Gampaha            1\n",
      "Name: START*, Length: 177, dtype: int64\n",
      "********************\n",
      "STOP* Cary                 202\n",
      "Koamo                149\n",
      "Morrisville           84\n",
      "Whitebridge           65\n",
      "Islamabad             58\n",
      "                    ... \n",
      "Daytona Beach          1\n",
      "Sand Lake Commons      1\n",
      "Sky Lake               1\n",
      "Vista East             1\n",
      "Ilukwatta              1\n",
      "Name: STOP*, Length: 188, dtype: int64\n",
      "********************\n",
      "MILES* 9.9        27\n",
      "3.1        26\n",
      "2.1        19\n",
      "10.4       19\n",
      "3.0        19\n",
      "           ..\n",
      "30.0        1\n",
      "46.9        1\n",
      "40.2        1\n",
      "16.6        1\n",
      "12204.7     1\n",
      "Name: MILES*, Length: 257, dtype: int64\n",
      "********************\n",
      "PURPOSE* Meeting            186\n",
      "Meal/Entertain     160\n",
      "Errand/Supplies    128\n",
      "Customer Visit     101\n",
      "Temporary Site      50\n",
      "Between Offices     18\n",
      "Moving               4\n",
      "Airport/Travel       3\n",
      "Charity ($)          1\n",
      "Commute              1\n",
      "Name: PURPOSE*, dtype: int64\n",
      "********************\n"
     ]
    }
   ],
   "source": [
    "## to take a look of all features\n",
    "for features in df.columns:\n",
    "    print(features,df[features].value_counts())\n",
    "    print(\"**\"*10)"
   ]
  },
  {
   "cell_type": "code",
   "execution_count": 761,
   "id": "e24fb8b2",
   "metadata": {
    "collapsed": true
   },
   "outputs": [
    {
     "data": {
      "text/plain": [
       "1/1/2016 21:11      1\n",
       "10/28/2016 11:34    1\n",
       "9/27/2016 19:14     1\n",
       "9/27/2016 13:21     1\n",
       "9/27/2016 8:33      1\n",
       "                   ..\n",
       "5/27/2016 20:47     1\n",
       "5/27/2016 20:26     1\n",
       "5/23/2016 21:09     1\n",
       "5/23/2016 20:19     1\n",
       "Totals              1\n",
       "Name: START_DATE*, Length: 1155, dtype: int64"
      ]
     },
     "execution_count": 761,
     "metadata": {},
     "output_type": "execute_result"
    }
   ],
   "source": [
    "df['START_DATE*'].value_counts()"
   ]
  },
  {
   "cell_type": "code",
   "execution_count": 762,
   "id": "e6d10bc9",
   "metadata": {
    "collapsed": true
   },
   "outputs": [
    {
     "data": {
      "text/plain": [
       "1/1/2016 21:17      1\n",
       "10/27/2016 21:48    1\n",
       "9/27/2016 14:43     1\n",
       "9/27/2016 8:35      1\n",
       "9/24/2016 20:33     1\n",
       "                   ..\n",
       "5/27/2016 20:53     1\n",
       "5/27/2016 20:30     1\n",
       "5/23/2016 21:21     1\n",
       "5/23/2016 20:27     1\n",
       "12/31/2016 23:51    1\n",
       "Name: END_DATE*, Length: 1154, dtype: int64"
      ]
     },
     "execution_count": 762,
     "metadata": {},
     "output_type": "execute_result"
    }
   ],
   "source": [
    "df['END_DATE*'].value_counts()"
   ]
  },
  {
   "cell_type": "code",
   "execution_count": 763,
   "id": "eb55e1f0",
   "metadata": {},
   "outputs": [
    {
     "data": {
      "text/plain": [
       "Business    1077\n",
       "Personal      77\n",
       "Name: CATEGORY*, dtype: int64"
      ]
     },
     "execution_count": 763,
     "metadata": {},
     "output_type": "execute_result"
    }
   ],
   "source": [
    "df['CATEGORY*'].value_counts()"
   ]
  },
  {
   "cell_type": "code",
   "execution_count": 764,
   "id": "6e3a6b53",
   "metadata": {},
   "outputs": [
    {
     "data": {
      "text/plain": [
       "array(['Business', 'Personal', nan], dtype=object)"
      ]
     },
     "execution_count": 764,
     "metadata": {},
     "output_type": "execute_result"
    }
   ],
   "source": [
    "df['CATEGORY*'].unique()"
   ]
  },
  {
   "cell_type": "code",
   "execution_count": 765,
   "id": "b61cddb9",
   "metadata": {
    "collapsed": true
   },
   "outputs": [
    {
     "data": {
      "text/plain": [
       "array(['Fort Pierce', 'West Palm Beach', 'Cary', 'Jamaica', 'New York',\n",
       "       'Elmhurst', 'Midtown', 'East Harlem', 'Flatiron District',\n",
       "       'Midtown East', 'Hudson Square', 'Lower Manhattan',\n",
       "       \"Hell's Kitchen\", 'Downtown', 'Gulfton', 'Houston', 'Eagan Park',\n",
       "       'Morrisville', 'Durham', 'Farmington Woods', 'Whitebridge',\n",
       "       'Lake Wellingborough', 'Fayetteville Street', 'Raleigh',\n",
       "       'Hazelwood', 'Fairmont', 'Meredith Townes', 'Apex', 'Chapel Hill',\n",
       "       'Northwoods', 'Edgehill Farms', 'Tanglewood', 'Preston',\n",
       "       'Eastgate', 'East Elmhurst', 'Jackson Heights', 'Long Island City',\n",
       "       'Katunayaka', 'Granta', 'Colombo', 'Nugegoda', 'Islamabad',\n",
       "       'R?walpindi', 'Noorpur Shahan', 'Heritage Pines', 'Westpark Place',\n",
       "       'Waverly Place', 'Wayne Ridge', 'Weston', 'East Austin',\n",
       "       'West University', 'South Congress', 'The Drag',\n",
       "       'Congress Ave District', 'Red River District', 'Georgian Acres',\n",
       "       'North Austin', 'Coxville', 'Convention Center District', 'Austin',\n",
       "       'Katy', 'Sharpstown', 'Sugar Land', 'Galveston', 'Port Bolivar',\n",
       "       'Washington Avenue', 'Briar Meadow', 'Latta', 'Jacksonville',\n",
       "       'Couples Glen', 'Kissimmee', 'Lake Reams', 'Orlando',\n",
       "       'Sand Lake Commons', 'Sky Lake', 'Daytona Beach', 'Ridgeland',\n",
       "       'Florence', 'Meredith', 'Holly Springs', 'Chessington', 'Burtrose',\n",
       "       'Parkway', 'Mcvan', 'Capitol One', 'University District',\n",
       "       'Seattle', 'Redmond', 'Bellevue', 'San Francisco', 'Palo Alto',\n",
       "       'Sunnyvale', 'Newark', 'Menlo Park', 'Old City', 'Savon Height',\n",
       "       'Kilarney Woods', 'Townes at Everett Crossing', 'Huntington Woods',\n",
       "       'Seaport', 'Medical Centre', 'Rose Hill', 'Soho', 'Tribeca',\n",
       "       'Financial District', 'Oakland', 'Emeryville', 'Berkeley',\n",
       "       'Kenner', 'CBD', 'Lower Garden District', 'Lakeview', 'Storyville',\n",
       "       'New Orleans', 'Metairie', 'Chalmette', 'Arabi',\n",
       "       'Pontchartrain Shores', 'Marigny', 'Covington', 'Mandeville',\n",
       "       'Jamestown Court', 'Summerwinds', 'Parkwood',\n",
       "       'Pontchartrain Beach', 'St Thomas', 'Banner Elk', 'Elk Park',\n",
       "       'Newland', 'Boone', 'Stonewater', 'Lexington Park at Amberly',\n",
       "       'Arlington Park at Amberly', 'Arlington', 'Kalorama Triangle',\n",
       "       'K Street', 'West End', 'Connecticut Avenue', 'Columbia Heights',\n",
       "       'Washington', 'Wake Forest', 'Lahore', 'Karachi', 'SOMISSPO',\n",
       "       'West Berkeley', 'North Berkeley Hills', 'San Jose', 'Eagle Rock',\n",
       "       'Winston Salem', 'Asheville', 'Topton', 'Hayesville',\n",
       "       'Bryson City', 'Almond', 'Mebane', 'Agnew', 'Cory', 'Renaissance',\n",
       "       'Santa Clara', 'NOMA', 'Sunnyside', 'Ingleside', 'Central',\n",
       "       'Tenderloin', 'College Avenue', 'South', 'Southside',\n",
       "       'South Berkeley', 'Mountain View', 'El Cerrito', 'Krendle Woods',\n",
       "       'Wake Co.', 'Fuquay-Varina', 'Rawalpindi', 'Kar?chi', 'Katunayake',\n",
       "       'Gampaha', nan], dtype=object)"
      ]
     },
     "execution_count": 765,
     "metadata": {},
     "output_type": "execute_result"
    }
   ],
   "source": [
    "df['START*'].unique()"
   ]
  },
  {
   "cell_type": "code",
   "execution_count": 766,
   "id": "fd99234e",
   "metadata": {
    "collapsed": true
   },
   "outputs": [
    {
     "data": {
      "text/plain": [
       "array(['Fort Pierce', 'West Palm Beach', 'Palm Beach', 'Cary',\n",
       "       'Morrisville', 'New York', 'Queens', 'East Harlem', 'NoMad',\n",
       "       'Midtown', 'Midtown East', 'Hudson Square', 'Lower Manhattan',\n",
       "       \"Hell's Kitchen\", 'Queens County', 'Gulfton', 'Downtown',\n",
       "       'Houston', 'Jamestown Court', 'Durham', 'Whitebridge',\n",
       "       'Lake Wellingborough', 'Raleigh', 'Umstead', 'Hazelwood',\n",
       "       'Westpark Place', 'Meredith Townes', 'Leesville Hollow', 'Apex',\n",
       "       'Chapel Hill', 'Williamsburg Manor', 'Macgregor Downs',\n",
       "       'Edgehill Farms', 'Northwoods', 'Tanglewood', 'Preston',\n",
       "       'Walnut Terrace', 'Jackson Heights', 'East Elmhurst',\n",
       "       'Midtown West', 'Long Island City', 'Jamaica', 'Koamo', 'Colombo',\n",
       "       'Nugegoda', 'Katunayaka', 'Islamabad', 'R?walpindi',\n",
       "       'Noorpur Shahan', 'Heritage Pines', 'Waverly Place', 'Wayne Ridge',\n",
       "       'Depot Historic District', 'Weston', 'West University',\n",
       "       'South Congress', 'Arts District', 'Congress Ave District',\n",
       "       'Red River District', 'The Drag', 'Convention Center District',\n",
       "       'North Austin', 'Coxville', 'Katy', 'Alief', 'Sharpstown',\n",
       "       'Sugar Land', 'Galveston', 'Port Bolivar', 'Washington Avenue',\n",
       "       'Briar Meadow', 'Greater Greenspoint', 'Latta', 'Jacksonville',\n",
       "       'Kissimmee', 'Isles of Buena Vista', 'Orlando', 'Lake Reams',\n",
       "       'Vista East', 'Sky Lake', 'Sand Lake Commons', 'Daytona Beach',\n",
       "       'Ridgeland', 'Florence', 'Cedar Hill', 'Holly Springs',\n",
       "       'Harden Place', 'Chessington', 'Burtrose', 'Parkway',\n",
       "       'Capitol One', 'University District', 'Redmond', 'Bellevue',\n",
       "       'Seattle', 'Mcvan', 'Palo Alto', 'Sunnyvale', 'Newark',\n",
       "       'Menlo Park', 'San Francisco', 'Parkway Museums', 'Hog Island',\n",
       "       'Savon Height', 'Kildaire Farms', 'Kilarney Woods',\n",
       "       'Gramercy-Flatiron', 'Tudor City', 'Soho', 'Tribeca',\n",
       "       'Financial District', 'Kips Bay', 'Emeryville', 'Berkeley',\n",
       "       'Oakland', 'Bay Farm Island', 'New Orleans',\n",
       "       'Lower Garden District', 'Lakeview', 'Storyville',\n",
       "       'Faubourg Marigny', 'Metairie', 'Kenner', 'Bywater', 'Chalmette',\n",
       "       'Arabi', 'Pontchartrain Shores', 'Marigny', 'Covington',\n",
       "       'Mandeville', 'Summerwinds', 'Parkwood', 'Pontchartrain Beach',\n",
       "       'CBD', 'St Thomas', 'Banner Elk', 'Elk Park', 'Newland', 'Boone',\n",
       "       'Stonewater', 'Lexington Park at Amberly',\n",
       "       'Arlington Park at Amberly', 'Washington', 'K Street',\n",
       "       'Kalorama Triangle', 'Northwest Rectangle', 'Columbia Heights',\n",
       "       'Arlington', 'Farmington Woods', 'Wake Forest', 'Lahore',\n",
       "       'Karachi', 'French Quarter', 'North Berkeley Hills', 'Southside',\n",
       "       'San Jose', 'Eagle Rock', 'Huntington Woods', 'Winston Salem',\n",
       "       'Asheville', 'Topton', 'Hayesville', 'Bryson City', 'Almond',\n",
       "       'Mebane', 'Santa Clara', 'Cory', 'Agnew', 'Renaissance',\n",
       "       'West Berkeley', 'Central', 'Sunnyside', 'Ingleside',\n",
       "       'Potrero Flats', 'SOMISSPO', 'Tenderloin', 'College Avenue',\n",
       "       'South', 'Southwest Berkeley', 'South Berkeley', 'Mountain View',\n",
       "       'El Cerrito', 'Wake Co.', 'Fuquay-Varina', 'Rawalpindi', 'Kar?chi',\n",
       "       'Gampaha', 'Ilukwatta', nan], dtype=object)"
      ]
     },
     "execution_count": 766,
     "metadata": {},
     "output_type": "execute_result"
    }
   ],
   "source": [
    "df['STOP*'].unique()"
   ]
  },
  {
   "cell_type": "code",
   "execution_count": 767,
   "id": "53a0c6c1",
   "metadata": {
    "collapsed": true
   },
   "outputs": [
    {
     "data": {
      "text/plain": [
       "array([5.10000e+00, 5.00000e+00, 4.80000e+00, 4.70000e+00, 6.37000e+01,\n",
       "       4.30000e+00, 7.10000e+00, 8.00000e-01, 8.30000e+00, 1.65000e+01,\n",
       "       1.08000e+01, 7.50000e+00, 6.20000e+00, 6.40000e+00, 1.60000e+00,\n",
       "       1.70000e+00, 1.90000e+00, 4.00000e+00, 1.80000e+00, 2.40000e+00,\n",
       "       2.00000e+00, 1.51000e+01, 1.12000e+01, 1.18000e+01, 2.19000e+01,\n",
       "       3.90000e+00, 8.00000e+00, 1.04000e+01, 7.20000e+00, 7.60000e+00,\n",
       "       1.71000e+01, 4.02000e+01, 1.00000e+00, 2.30000e+00, 1.40000e+00,\n",
       "       5.00000e-01, 1.87000e+01, 3.40000e+00, 2.70000e+00, 1.29000e+01,\n",
       "       1.90000e+01, 1.47000e+01, 1.57000e+01, 4.60000e+00, 5.20000e+00,\n",
       "       1.01000e+01, 5.80000e+00, 5.50000e+00, 5.70000e+00, 1.94000e+01,\n",
       "       2.33000e+01, 6.00000e+00, 9.70000e+00, 1.10000e+00, 9.00000e+00,\n",
       "       7.70000e+00, 1.14000e+01, 3.20000e+00, 5.60000e+00, 6.10000e+00,\n",
       "       5.30000e+00, 3.00000e+00, 1.50000e+00, 1.73000e+01, 1.35000e+01,\n",
       "       8.50000e+00, 2.60000e+00, 1.70000e+01, 1.80000e+01, 8.40000e+00,\n",
       "       1.15000e+01, 8.90000e+00, 8.10000e+00, 1.30000e+01, 1.39000e+01,\n",
       "       4.37000e+01, 1.41000e+01, 4.50000e+00, 3.60000e+00, 2.14000e+01,\n",
       "       2.35000e+01, 1.27000e+01, 1.00000e+01, 1.83000e+01, 7.30000e+00,\n",
       "       3.50000e+00, 4.20000e+00, 1.36000e+01, 2.50000e+00, 1.44000e+01,\n",
       "       1.84000e+01, 2.31000e+01, 1.45000e+01, 8.80000e+00, 2.27000e+01,\n",
       "       2.20000e+00, 2.00000e+01, 3.10000e+00, 6.30000e+00, 1.06000e+01,\n",
       "       9.90000e+00, 6.80000e+00, 2.10000e+00, 3.80000e+00, 6.60000e+00,\n",
       "       1.09000e+01, 4.90000e+00, 6.50000e+00, 7.80000e+00, 2.80000e+00,\n",
       "       1.24000e+01, 5.90000e+00, 9.40000e+00, 1.19000e+01, 1.28000e+01,\n",
       "       1.20000e+00, 1.05000e+01, 1.25000e+01, 1.36000e+02, 3.02000e+01,\n",
       "       1.55000e+01, 1.26000e+01, 1.32000e+01, 9.20000e+00, 1.20000e+01,\n",
       "       3.51000e+01, 3.65000e+01, 5.70000e+01, 9.60000e+00, 9.00000e-01,\n",
       "       2.56000e+01, 2.30000e+01, 1.44000e+02, 3.10300e+02, 2.01000e+02,\n",
       "       6.70000e+00, 6.90000e+00, 2.72000e+01, 2.57000e+01, 1.38000e+01,\n",
       "       2.88000e+01, 1.61000e+01, 1.64000e+01, 1.10000e+01, 2.03000e+01,\n",
       "       7.00000e-01, 7.73000e+01, 8.05000e+01, 1.74200e+02, 1.59300e+02,\n",
       "       7.90000e+00, 8.70000e+00, 1.91000e+01, 1.86000e+01, 1.59000e+01,\n",
       "       1.53000e+01, 1.37000e+01, 1.52000e+01, 8.20000e+00, 2.25000e+01,\n",
       "       3.28000e+01, 1.42000e+01, 1.82000e+01, 2.90000e+00, 2.05000e+01,\n",
       "       9.80000e+00, 1.76000e+01, 9.30000e+00, 1.13000e+01, 1.49000e+01,\n",
       "       1.40000e+01, 3.30000e+00, 2.23000e+01, 1.63000e+01, 3.70000e+00,\n",
       "       1.16000e+01, 1.50000e+01, 1.22000e+01, 1.93000e+01, 1.66000e+01,\n",
       "       8.60000e+00, 4.69000e+01, 3.00000e+01, 4.40000e+00, 7.40000e+00,\n",
       "       1.33000e+01, 6.00000e-01, 7.00000e+00, 1.30000e+00, 1.34000e+01,\n",
       "       1.23000e+01, 1.95300e+02, 2.24000e+01, 2.81000e+01, 4.19000e+01,\n",
       "       2.38000e+01, 1.80200e+02, 4.10000e+00, 9.10000e+00, 9.50000e+00,\n",
       "       1.46000e+01, 1.74000e+01, 3.17000e+01, 3.19000e+01, 1.56000e+01,\n",
       "       2.59000e+01, 1.62000e+01, 1.21000e+01, 2.02000e+01, 1.77000e+01,\n",
       "       2.52000e+01, 9.62000e+01, 3.50000e+01, 5.04000e+01, 8.66000e+01,\n",
       "       1.56900e+02, 1.72000e+01, 6.91000e+01, 1.95600e+02, 3.77000e+01,\n",
       "       1.67000e+01, 2.86000e+01, 1.79000e+01, 1.12600e+02, 3.32000e+01,\n",
       "       2.06000e+01, 4.77000e+01, 4.46000e+01, 2.82000e+01, 1.54000e+01,\n",
       "       1.07000e+02, 1.33600e+02, 9.18000e+01, 4.07000e+01, 7.57000e+01,\n",
       "       2.98000e+01, 6.84000e+01, 1.95900e+02, 4.52000e+01, 1.03000e+01,\n",
       "       1.31000e+01, 4.39000e+01, 4.59000e+01, 3.66000e+01, 4.36000e+01,\n",
       "       5.40000e+00, 3.92000e+01, 1.85000e+01, 1.11000e+01, 1.89000e+01,\n",
       "       1.02000e+01, 1.03000e+02, 3.23000e+01, 2.32000e+01, 1.07000e+01,\n",
       "       4.82000e+01, 1.22047e+04])"
      ]
     },
     "execution_count": 767,
     "metadata": {},
     "output_type": "execute_result"
    }
   ],
   "source": [
    "df['MILES*'].unique()"
   ]
  },
  {
   "cell_type": "code",
   "execution_count": 768,
   "id": "088a575d",
   "metadata": {},
   "outputs": [
    {
     "data": {
      "text/plain": [
       "count     1155.000000\n",
       "mean        21.125108\n",
       "std        359.454497\n",
       "min          0.500000\n",
       "25%          2.900000\n",
       "50%          6.000000\n",
       "75%         10.400000\n",
       "max      12204.700000\n",
       "Name: MILES*, dtype: float64"
      ]
     },
     "execution_count": 768,
     "metadata": {},
     "output_type": "execute_result"
    }
   ],
   "source": [
    "df['MILES*'].describe()"
   ]
  },
  {
   "cell_type": "code",
   "execution_count": 769,
   "id": "f18a96ae",
   "metadata": {},
   "outputs": [
    {
     "data": {
      "text/plain": [
       "<AxesSubplot:xlabel='MILES*', ylabel='Density'>"
      ]
     },
     "execution_count": 769,
     "metadata": {},
     "output_type": "execute_result"
    },
    {
     "data": {
      "image/png": "[encoded data removed]",
      "text/plain": [
       "<Figure size 1080x576 with 1 Axes>"
      ]
     },
     "metadata": {},
     "output_type": "display_data"
    }
   ],
   "source": [
    "sns.kdeplot(data=df, x='MILES*', shade=True)"
   ]
  },
  {
   "cell_type": "code",
   "execution_count": 770,
   "id": "bca0898e",
   "metadata": {},
   "outputs": [
    {
     "data": {
      "text/html": [
       "<div>\n",
       "<style scoped>\n",
       "    .dataframe tbody tr th:only-of-type {\n",
       "        vertical-align: middle;\n",
       "    }\n",
       "\n",
       "    .dataframe tbody tr th {\n",
       "        vertical-align: top;\n",
       "    }\n",
       "\n",
       "    .dataframe thead th {\n",
       "        text-align: right;\n",
       "    }\n",
       "</style>\n",
       "<table border=\"1\" class=\"dataframe\">\n",
       "  <thead>\n",
       "    <tr style=\"text-align: right;\">\n",
       "      <th></th>\n",
       "      <th>START_DATE*</th>\n",
       "      <th>END_DATE*</th>\n",
       "      <th>CATEGORY*</th>\n",
       "      <th>START*</th>\n",
       "      <th>STOP*</th>\n",
       "      <th>MILES*</th>\n",
       "      <th>PURPOSE*</th>\n",
       "    </tr>\n",
       "  </thead>\n",
       "  <tbody>\n",
       "    <tr>\n",
       "      <th>1155</th>\n",
       "      <td>Totals</td>\n",
       "      <td>NaN</td>\n",
       "      <td>NaN</td>\n",
       "      <td>NaN</td>\n",
       "      <td>NaN</td>\n",
       "      <td>12204.7</td>\n",
       "      <td>NaN</td>\n",
       "    </tr>\n",
       "  </tbody>\n",
       "</table>\n",
       "</div>"
      ],
      "text/plain": [
       "     START_DATE* END_DATE* CATEGORY* START* STOP*   MILES* PURPOSE*\n",
       "1155      Totals       NaN       NaN    NaN   NaN  12204.7      NaN"
      ]
     },
     "execution_count": 770,
     "metadata": {},
     "output_type": "execute_result"
    }
   ],
   "source": [
    "df[df['MILES*']==df['MILES*'].max()]"
   ]
  },
  {
   "cell_type": "code",
   "execution_count": 771,
   "id": "0c0ed688",
   "metadata": {},
   "outputs": [],
   "source": [
    "df.drop(1155,axis=0, inplace=True )"
   ]
  },
  {
   "cell_type": "code",
   "execution_count": 772,
   "id": "58b9c79b",
   "metadata": {},
   "outputs": [
    {
     "data": {
      "text/plain": [
       "count    1154.000000\n",
       "mean       10.567418\n",
       "std        21.588452\n",
       "min         0.500000\n",
       "25%         2.900000\n",
       "50%         6.000000\n",
       "75%        10.400000\n",
       "max       310.300000\n",
       "Name: MILES*, dtype: float64"
      ]
     },
     "execution_count": 772,
     "metadata": {},
     "output_type": "execute_result"
    }
   ],
   "source": [
    "df['MILES*'].describe()"
   ]
  },
  {
   "cell_type": "code",
   "execution_count": 773,
   "id": "8db49d30",
   "metadata": {},
   "outputs": [
    {
     "data": {
      "text/plain": [
       "<AxesSubplot:xlabel='MILES*', ylabel='Density'>"
      ]
     },
     "execution_count": 773,
     "metadata": {},
     "output_type": "execute_result"
    },
    {
     "data": {
      "image/png": "[encoded data removed]",
      "text/plain": [
       "<Figure size 1080x576 with 1 Axes>"
      ]
     },
     "metadata": {},
     "output_type": "display_data"
    }
   ],
   "source": [
    "sns.kdeplot(data=df,x='MILES*', palette='dark', shade=True)"
   ]
  },
  {
   "cell_type": "code",
   "execution_count": 774,
   "id": "6bb405d9",
   "metadata": {},
   "outputs": [
    {
     "data": {
      "text/plain": [
       "Meeting            186\n",
       "Meal/Entertain     160\n",
       "Errand/Supplies    128\n",
       "Customer Visit     101\n",
       "Temporary Site      50\n",
       "Between Offices     18\n",
       "Moving               4\n",
       "Airport/Travel       3\n",
       "Charity ($)          1\n",
       "Commute              1\n",
       "Name: PURPOSE*, dtype: int64"
      ]
     },
     "execution_count": 774,
     "metadata": {},
     "output_type": "execute_result"
    }
   ],
   "source": [
    "## last feature\n",
    "df['PURPOSE*'].value_counts()"
   ]
  },
  {
   "cell_type": "code",
   "execution_count": 775,
   "id": "3ca4917f",
   "metadata": {},
   "outputs": [
    {
     "name": "stdout",
     "output_type": "stream",
     "text": [
      "START_DATE*     0.000000\n",
      "END_DATE*       0.000000\n",
      "CATEGORY*       0.000000\n",
      "START*          0.000000\n",
      "STOP*           0.000000\n",
      "MILES*          0.000000\n",
      "PURPOSE*       43.500867\n",
      "dtype: float64\n"
     ]
    }
   ],
   "source": [
    "## let's check the missing values\n",
    "print((df.isnull().sum()/df.shape[0])*100)\n",
    "# or use\n",
    "# print(df.isnull().mean()*100)"
   ]
  },
  {
   "cell_type": "code",
   "execution_count": 776,
   "id": "6a5c8235",
   "metadata": {},
   "outputs": [
    {
     "data": {
      "text/plain": [
       "' purpose must be dropped as it contains more than 20% missing \\n## [not important feature]- but the client has a question on it '"
      ]
     },
     "execution_count": 776,
     "metadata": {},
     "output_type": "execute_result"
    }
   ],
   "source": [
    "''' purpose must be dropped as it contains more than 20% missing \n",
    "## [not important feature]- but the client has a question on it '''"
   ]
  },
  {
   "cell_type": "markdown",
   "id": "dbe797aa",
   "metadata": {},
   "source": [
    "### Q1: <font color='green'>For each purpose for each Category calculate the sum of kms driven <font/>"
   ]
  },
  {
   "cell_type": "code",
   "execution_count": 777,
   "id": "76684fc4",
   "metadata": {},
   "outputs": [
    {
     "data": {
      "text/plain": [
       "Index(['START_DATE*', 'END_DATE*', 'CATEGORY*', 'START*', 'STOP*', 'MILES*',\n",
       "       'PURPOSE*'],\n",
       "      dtype='object')"
      ]
     },
     "execution_count": 777,
     "metadata": {},
     "output_type": "execute_result"
    }
   ],
   "source": [
    "df.columns"
   ]
  },
  {
   "cell_type": "code",
   "execution_count": 778,
   "id": "fe085235",
   "metadata": {},
   "outputs": [
    {
     "data": {
      "text/plain": [
       "CATEGORY*  PURPOSE*       \n",
       "Business   Airport/Travel       16.5\n",
       "           Between Offices     197.0\n",
       "           Customer Visit     2089.5\n",
       "           Errand/Supplies     508.0\n",
       "           Meal/Entertain      911.7\n",
       "           Meeting            2841.4\n",
       "           Temporary Site      523.7\n",
       "Personal   Charity ($)          15.1\n",
       "           Commute             180.2\n",
       "           Moving               18.2\n",
       "Name: MILES*, dtype: float64"
      ]
     },
     "execution_count": 778,
     "metadata": {},
     "output_type": "execute_result"
    }
   ],
   "source": [
    "df.groupby(by=['CATEGORY*','PURPOSE*']).sum()['MILES*']"
   ]
  },
  {
   "cell_type": "code",
   "execution_count": 779,
   "id": "b23137db",
   "metadata": {},
   "outputs": [
    {
     "data": {
      "text/html": [
       "<div>\n",
       "<style scoped>\n",
       "    .dataframe tbody tr th:only-of-type {\n",
       "        vertical-align: middle;\n",
       "    }\n",
       "\n",
       "    .dataframe tbody tr th {\n",
       "        vertical-align: top;\n",
       "    }\n",
       "\n",
       "    .dataframe thead th {\n",
       "        text-align: right;\n",
       "    }\n",
       "</style>\n",
       "<table border=\"1\" class=\"dataframe\">\n",
       "  <thead>\n",
       "    <tr style=\"text-align: right;\">\n",
       "      <th>CATEGORY*</th>\n",
       "      <th>Business</th>\n",
       "      <th>Personal</th>\n",
       "    </tr>\n",
       "    <tr>\n",
       "      <th>PURPOSE*</th>\n",
       "      <th></th>\n",
       "      <th></th>\n",
       "    </tr>\n",
       "  </thead>\n",
       "  <tbody>\n",
       "    <tr>\n",
       "      <th>Airport/Travel</th>\n",
       "      <td>16.5</td>\n",
       "      <td>NaN</td>\n",
       "    </tr>\n",
       "    <tr>\n",
       "      <th>Between Offices</th>\n",
       "      <td>197.0</td>\n",
       "      <td>NaN</td>\n",
       "    </tr>\n",
       "    <tr>\n",
       "      <th>Charity ($)</th>\n",
       "      <td>NaN</td>\n",
       "      <td>15.1</td>\n",
       "    </tr>\n",
       "    <tr>\n",
       "      <th>Commute</th>\n",
       "      <td>NaN</td>\n",
       "      <td>180.2</td>\n",
       "    </tr>\n",
       "    <tr>\n",
       "      <th>Customer Visit</th>\n",
       "      <td>2089.5</td>\n",
       "      <td>NaN</td>\n",
       "    </tr>\n",
       "    <tr>\n",
       "      <th>Errand/Supplies</th>\n",
       "      <td>508.0</td>\n",
       "      <td>NaN</td>\n",
       "    </tr>\n",
       "    <tr>\n",
       "      <th>Meal/Entertain</th>\n",
       "      <td>911.7</td>\n",
       "      <td>NaN</td>\n",
       "    </tr>\n",
       "    <tr>\n",
       "      <th>Meeting</th>\n",
       "      <td>2841.4</td>\n",
       "      <td>NaN</td>\n",
       "    </tr>\n",
       "    <tr>\n",
       "      <th>Moving</th>\n",
       "      <td>NaN</td>\n",
       "      <td>18.2</td>\n",
       "    </tr>\n",
       "    <tr>\n",
       "      <th>Temporary Site</th>\n",
       "      <td>523.7</td>\n",
       "      <td>NaN</td>\n",
       "    </tr>\n",
       "  </tbody>\n",
       "</table>\n",
       "</div>"
      ],
      "text/plain": [
       "CATEGORY*        Business  Personal\n",
       "PURPOSE*                           \n",
       "Airport/Travel       16.5       NaN\n",
       "Between Offices     197.0       NaN\n",
       "Charity ($)           NaN      15.1\n",
       "Commute               NaN     180.2\n",
       "Customer Visit     2089.5       NaN\n",
       "Errand/Supplies     508.0       NaN\n",
       "Meal/Entertain      911.7       NaN\n",
       "Meeting            2841.4       NaN\n",
       "Moving                NaN      18.2\n",
       "Temporary Site      523.7       NaN"
      ]
     },
     "execution_count": 779,
     "metadata": {},
     "output_type": "execute_result"
    }
   ],
   "source": [
    "## if you didn't understand maybe with pivioting you will\n",
    "pd.pivot_table(data=df,index='PURPOSE*',columns='CATEGORY*',values='MILES*', aggfunc=sum)"
   ]
  },
  {
   "cell_type": "code",
   "execution_count": 780,
   "id": "e4f1c1aa",
   "metadata": {},
   "outputs": [
    {
     "data": {
      "text/plain": [
       "<AxesSubplot:xlabel='PURPOSE*', ylabel='MILES*'>"
      ]
     },
     "execution_count": 780,
     "metadata": {},
     "output_type": "execute_result"
    },
    {
     "data": {
      "image/png": "[encoded data removed]",
      "text/plain": [
       "<Figure size 1080x576 with 1 Axes>"
      ]
     },
     "metadata": {},
     "output_type": "display_data"
    }
   ],
   "source": [
    "# or \n",
    "sns.barplot(data=df,x='PURPOSE*' ,y='MILES*', hue='CATEGORY*', estimator=sum)"
   ]
  },
  {
   "cell_type": "code",
   "execution_count": 781,
   "id": "58e4ce47",
   "metadata": {},
   "outputs": [],
   "source": [
    "## now drop the columns PURPOSE*\n",
    "df.drop('PURPOSE*', axis=1, inplace=True)"
   ]
  },
  {
   "cell_type": "code",
   "execution_count": 782,
   "id": "775eed67",
   "metadata": {},
   "outputs": [
    {
     "data": {
      "text/plain": [
       "START_DATE*    0.0\n",
       "END_DATE*      0.0\n",
       "CATEGORY*      0.0\n",
       "START*         0.0\n",
       "STOP*          0.0\n",
       "MILES*         0.0\n",
       "dtype: float64"
      ]
     },
     "execution_count": 782,
     "metadata": {},
     "output_type": "execute_result"
    }
   ],
   "source": [
    "df.isnull().mean()*100"
   ]
  },
  {
   "cell_type": "markdown",
   "id": "acf8bf1f",
   "metadata": {},
   "source": [
    "## <font color='green'> lets do some feature engineering <font/>"
   ]
  },
  {
   "cell_type": "code",
   "execution_count": 783,
   "id": "15fe28a8",
   "metadata": {},
   "outputs": [
    {
     "data": {
      "text/plain": [
       "'1/11/2016 13:32'"
      ]
     },
     "execution_count": 783,
     "metadata": {},
     "output_type": "execute_result"
    }
   ],
   "source": [
    "df['START_DATE*'].iloc[15]"
   ]
  },
  {
   "cell_type": "code",
   "execution_count": 784,
   "id": "122556c2",
   "metadata": {},
   "outputs": [],
   "source": [
    "from datetime import datetime"
   ]
  },
  {
   "cell_type": "code",
   "execution_count": 785,
   "id": "89ccd962",
   "metadata": {},
   "outputs": [
    {
     "data": {
      "text/plain": [
       "datetime.datetime(2016, 11, 1, 13, 32)"
      ]
     },
     "execution_count": 785,
     "metadata": {},
     "output_type": "execute_result"
    }
   ],
   "source": [
    "datetime.strptime('1/11/2016 13:32','%d/%m/%Y %H:%M')"
   ]
  },
  {
   "cell_type": "code",
   "execution_count": 786,
   "id": "8d502401",
   "metadata": {},
   "outputs": [],
   "source": [
    "## feature transformation \n",
    "df['START_DATE*'] = pd.to_datetime(df['START_DATE*'],format ='%m/%d/%Y %H:%M')\n",
    "df['END_DATE*'] = pd.to_datetime(df['END_DATE*'],format ='%m/%d/%Y %H:%M')"
   ]
  },
  {
   "cell_type": "code",
   "execution_count": 787,
   "id": "947401ee",
   "metadata": {},
   "outputs": [
    {
     "data": {
      "text/plain": [
       "array(['2016-01-01T21:11:00.000000000', '2016-01-02T01:25:00.000000000',\n",
       "       '2016-01-02T20:25:00.000000000', ...,\n",
       "       '2016-12-31T15:03:00.000000000', '2016-12-31T21:32:00.000000000',\n",
       "       '2016-12-31T22:08:00.000000000'], dtype='datetime64[ns]')"
      ]
     },
     "execution_count": 787,
     "metadata": {},
     "output_type": "execute_result"
    }
   ],
   "source": [
    "df['START_DATE*'].unique()"
   ]
  },
  {
   "cell_type": "code",
   "execution_count": 788,
   "id": "4750ad7b",
   "metadata": {},
   "outputs": [
    {
     "data": {
      "text/plain": [
       "array(['2016-01-01T21:17:00.000000000', '2016-01-02T01:37:00.000000000',\n",
       "       '2016-01-02T20:38:00.000000000', ...,\n",
       "       '2016-12-31T15:38:00.000000000', '2016-12-31T21:50:00.000000000',\n",
       "       '2016-12-31T23:51:00.000000000'], dtype='datetime64[ns]')"
      ]
     },
     "execution_count": 788,
     "metadata": {},
     "output_type": "execute_result"
    }
   ],
   "source": [
    "df['END_DATE*'].unique()"
   ]
  },
  {
   "cell_type": "code",
   "execution_count": 789,
   "id": "44a9bc55",
   "metadata": {},
   "outputs": [],
   "source": [
    "## get the KMS column\n",
    "df['KM*']=np.round(df['MILES*'].apply(lambda x: x*1.60934),2)"
   ]
  },
  {
   "cell_type": "code",
   "execution_count": 790,
   "id": "4bbc3bb3",
   "metadata": {},
   "outputs": [
    {
     "data": {
      "text/html": [
       "<div>\n",
       "<style scoped>\n",
       "    .dataframe tbody tr th:only-of-type {\n",
       "        vertical-align: middle;\n",
       "    }\n",
       "\n",
       "    .dataframe tbody tr th {\n",
       "        vertical-align: top;\n",
       "    }\n",
       "\n",
       "    .dataframe thead th {\n",
       "        text-align: right;\n",
       "    }\n",
       "</style>\n",
       "<table border=\"1\" class=\"dataframe\">\n",
       "  <thead>\n",
       "    <tr style=\"text-align: right;\">\n",
       "      <th></th>\n",
       "      <th>MILES*</th>\n",
       "      <th>KM*</th>\n",
       "    </tr>\n",
       "  </thead>\n",
       "  <tbody>\n",
       "    <tr>\n",
       "      <th>0</th>\n",
       "      <td>5.1</td>\n",
       "      <td>8.21</td>\n",
       "    </tr>\n",
       "    <tr>\n",
       "      <th>1</th>\n",
       "      <td>5.0</td>\n",
       "      <td>8.05</td>\n",
       "    </tr>\n",
       "    <tr>\n",
       "      <th>2</th>\n",
       "      <td>4.8</td>\n",
       "      <td>7.72</td>\n",
       "    </tr>\n",
       "    <tr>\n",
       "      <th>3</th>\n",
       "      <td>4.7</td>\n",
       "      <td>7.56</td>\n",
       "    </tr>\n",
       "    <tr>\n",
       "      <th>4</th>\n",
       "      <td>63.7</td>\n",
       "      <td>102.51</td>\n",
       "    </tr>\n",
       "    <tr>\n",
       "      <th>...</th>\n",
       "      <td>...</td>\n",
       "      <td>...</td>\n",
       "    </tr>\n",
       "    <tr>\n",
       "      <th>1150</th>\n",
       "      <td>0.7</td>\n",
       "      <td>1.13</td>\n",
       "    </tr>\n",
       "    <tr>\n",
       "      <th>1151</th>\n",
       "      <td>3.9</td>\n",
       "      <td>6.28</td>\n",
       "    </tr>\n",
       "    <tr>\n",
       "      <th>1152</th>\n",
       "      <td>16.2</td>\n",
       "      <td>26.07</td>\n",
       "    </tr>\n",
       "    <tr>\n",
       "      <th>1153</th>\n",
       "      <td>6.4</td>\n",
       "      <td>10.30</td>\n",
       "    </tr>\n",
       "    <tr>\n",
       "      <th>1154</th>\n",
       "      <td>48.2</td>\n",
       "      <td>77.57</td>\n",
       "    </tr>\n",
       "  </tbody>\n",
       "</table>\n",
       "<p>1154 rows × 2 columns</p>\n",
       "</div>"
      ],
      "text/plain": [
       "      MILES*     KM*\n",
       "0        5.1    8.21\n",
       "1        5.0    8.05\n",
       "2        4.8    7.72\n",
       "3        4.7    7.56\n",
       "4       63.7  102.51\n",
       "...      ...     ...\n",
       "1150     0.7    1.13\n",
       "1151     3.9    6.28\n",
       "1152    16.2   26.07\n",
       "1153     6.4   10.30\n",
       "1154    48.2   77.57\n",
       "\n",
       "[1154 rows x 2 columns]"
      ]
     },
     "execution_count": 790,
     "metadata": {},
     "output_type": "execute_result"
    }
   ],
   "source": [
    "df[['MILES*','KM*']]"
   ]
  },
  {
   "cell_type": "code",
   "execution_count": 791,
   "id": "2dc9d963",
   "metadata": {},
   "outputs": [],
   "source": [
    "## we also can get the speed / get duration in minutes\n",
    "df['DURATION*']=(df['END_DATE*']-df['START_DATE*'])/np.timedelta64(1,'m')"
   ]
  },
  {
   "cell_type": "code",
   "execution_count": 792,
   "id": "3a49521d",
   "metadata": {},
   "outputs": [
    {
     "data": {
      "text/html": [
       "<div>\n",
       "<style scoped>\n",
       "    .dataframe tbody tr th:only-of-type {\n",
       "        vertical-align: middle;\n",
       "    }\n",
       "\n",
       "    .dataframe tbody tr th {\n",
       "        vertical-align: top;\n",
       "    }\n",
       "\n",
       "    .dataframe thead th {\n",
       "        text-align: right;\n",
       "    }\n",
       "</style>\n",
       "<table border=\"1\" class=\"dataframe\">\n",
       "  <thead>\n",
       "    <tr style=\"text-align: right;\">\n",
       "      <th></th>\n",
       "      <th>START_DATE*</th>\n",
       "      <th>END_DATE*</th>\n",
       "      <th>DURATION*</th>\n",
       "    </tr>\n",
       "  </thead>\n",
       "  <tbody>\n",
       "    <tr>\n",
       "      <th>587</th>\n",
       "      <td>2016-07-22 15:49:00</td>\n",
       "      <td>2016-07-22 16:22:00</td>\n",
       "      <td>33.0</td>\n",
       "    </tr>\n",
       "    <tr>\n",
       "      <th>318</th>\n",
       "      <td>2016-04-15 14:31:00</td>\n",
       "      <td>2016-04-15 15:01:00</td>\n",
       "      <td>30.0</td>\n",
       "    </tr>\n",
       "    <tr>\n",
       "      <th>201</th>\n",
       "      <td>2016-03-07 12:10:00</td>\n",
       "      <td>2016-03-07 12:26:00</td>\n",
       "      <td>16.0</td>\n",
       "    </tr>\n",
       "    <tr>\n",
       "      <th>168</th>\n",
       "      <td>2016-02-26 17:01:00</td>\n",
       "      <td>2016-02-26 17:12:00</td>\n",
       "      <td>11.0</td>\n",
       "    </tr>\n",
       "    <tr>\n",
       "      <th>719</th>\n",
       "      <td>2016-08-26 16:55:00</td>\n",
       "      <td>2016-08-26 17:12:00</td>\n",
       "      <td>17.0</td>\n",
       "    </tr>\n",
       "  </tbody>\n",
       "</table>\n",
       "</div>"
      ],
      "text/plain": [
       "            START_DATE*           END_DATE*  DURATION*\n",
       "587 2016-07-22 15:49:00 2016-07-22 16:22:00       33.0\n",
       "318 2016-04-15 14:31:00 2016-04-15 15:01:00       30.0\n",
       "201 2016-03-07 12:10:00 2016-03-07 12:26:00       16.0\n",
       "168 2016-02-26 17:01:00 2016-02-26 17:12:00       11.0\n",
       "719 2016-08-26 16:55:00 2016-08-26 17:12:00       17.0"
      ]
     },
     "execution_count": 792,
     "metadata": {},
     "output_type": "execute_result"
    }
   ],
   "source": [
    "df[['START_DATE*','END_DATE*','DURATION*']].sample(5)"
   ]
  },
  {
   "cell_type": "code",
   "execution_count": 793,
   "id": "9c97f60b",
   "metadata": {},
   "outputs": [
    {
     "data": {
      "text/plain": [
       "START_DATE*    0.0\n",
       "END_DATE*      0.0\n",
       "CATEGORY*      0.0\n",
       "START*         0.0\n",
       "STOP*          0.0\n",
       "MILES*         0.0\n",
       "KM*            0.0\n",
       "DURATION*      0.0\n",
       "dtype: float64"
      ]
     },
     "execution_count": 793,
     "metadata": {},
     "output_type": "execute_result"
    }
   ],
   "source": [
    "df.isnull().mean()*100"
   ]
  },
  {
   "cell_type": "code",
   "execution_count": 794,
   "id": "9f00264a",
   "metadata": {},
   "outputs": [],
   "source": [
    "df.drop('MILES*', axis=1, inplace=True)"
   ]
  },
  {
   "cell_type": "code",
   "execution_count": 795,
   "id": "66214bba",
   "metadata": {},
   "outputs": [],
   "source": [
    "## let's work with time \n",
    "df['year']=df['START_DATE*'].dt.year\n",
    "df['month']=df['START_DATE*'].dt.month_name().str[:3]\n",
    "df['day_name']=df['START_DATE*'].dt.day_name()\n",
    "df['day']=df['START_DATE*'].dt.day"
   ]
  },
  {
   "cell_type": "code",
   "execution_count": 796,
   "id": "c6cf4f13",
   "metadata": {},
   "outputs": [],
   "source": [
    "## let's get period\n",
    "def get_periods(x):\n",
    "    if x in range(0,13):\n",
    "        return 'Morning'\n",
    "    elif x in range(13,19):\n",
    "        return 'Afternoon'\n",
    "    elif x in range(19,21):\n",
    "        return 'Evening'\n",
    "    else:\n",
    "        return 'Night'\n"
   ]
  },
  {
   "cell_type": "code",
   "execution_count": 797,
   "id": "123f31af",
   "metadata": {},
   "outputs": [],
   "source": [
    "df['period']=df['day'].apply(get_periods)"
   ]
  },
  {
   "cell_type": "code",
   "execution_count": 798,
   "id": "520ffd32",
   "metadata": {},
   "outputs": [
    {
     "data": {
      "text/plain": [
       "array(['Morning', 'Afternoon', 'Evening', 'Night'], dtype=object)"
      ]
     },
     "execution_count": 798,
     "metadata": {},
     "output_type": "execute_result"
    }
   ],
   "source": [
    "df['period'].unique()"
   ]
  },
  {
   "cell_type": "code",
   "execution_count": 799,
   "id": "9ef3f36d",
   "metadata": {},
   "outputs": [
    {
     "data": {
      "text/plain": [
       "Friday       206\n",
       "Tuesday      175\n",
       "Monday       174\n",
       "Thursday     154\n",
       "Saturday     150\n",
       "Sunday       148\n",
       "Wednesday    147\n",
       "Name: day_name, dtype: int64"
      ]
     },
     "execution_count": 799,
     "metadata": {},
     "output_type": "execute_result"
    }
   ],
   "source": [
    "df['day_name'].value_counts()"
   ]
  },
  {
   "cell_type": "markdown",
   "id": "92868316",
   "metadata": {},
   "source": [
    "## Q2 <font color='green'> Describe the kms of all trips\n"
   ]
  },
  {
   "cell_type": "code",
   "execution_count": 800,
   "id": "5d2ca949",
   "metadata": {},
   "outputs": [],
   "source": [
    "## let's check for errors"
   ]
  },
  {
   "cell_type": "code",
   "execution_count": 801,
   "id": "61380c7b",
   "metadata": {},
   "outputs": [
    {
     "data": {
      "text/plain": [
       "count    1154.000000\n",
       "mean       17.006716\n",
       "std        34.743156\n",
       "min         0.800000\n",
       "25%         4.670000\n",
       "50%         9.660000\n",
       "75%        16.740000\n",
       "max       499.380000\n",
       "Name: KM*, dtype: float64"
      ]
     },
     "execution_count": 801,
     "metadata": {},
     "output_type": "execute_result"
    }
   ],
   "source": [
    "df['KM*'].describe()"
   ]
  },
  {
   "cell_type": "code",
   "execution_count": 802,
   "id": "0bda5117",
   "metadata": {},
   "outputs": [
    {
     "data": {
      "text/html": [
       "<div>\n",
       "<style scoped>\n",
       "    .dataframe tbody tr th:only-of-type {\n",
       "        vertical-align: middle;\n",
       "    }\n",
       "\n",
       "    .dataframe tbody tr th {\n",
       "        vertical-align: top;\n",
       "    }\n",
       "\n",
       "    .dataframe thead th {\n",
       "        text-align: right;\n",
       "    }\n",
       "</style>\n",
       "<table border=\"1\" class=\"dataframe\">\n",
       "  <thead>\n",
       "    <tr style=\"text-align: right;\">\n",
       "      <th></th>\n",
       "      <th>START_DATE*</th>\n",
       "      <th>END_DATE*</th>\n",
       "      <th>CATEGORY*</th>\n",
       "      <th>START*</th>\n",
       "      <th>STOP*</th>\n",
       "      <th>KM*</th>\n",
       "      <th>DURATION*</th>\n",
       "      <th>year</th>\n",
       "      <th>month</th>\n",
       "      <th>day_name</th>\n",
       "      <th>day</th>\n",
       "      <th>period</th>\n",
       "    </tr>\n",
       "  </thead>\n",
       "  <tbody>\n",
       "    <tr>\n",
       "      <th>269</th>\n",
       "      <td>2016-03-25 16:52:00</td>\n",
       "      <td>2016-03-25 22:22:00</td>\n",
       "      <td>Business</td>\n",
       "      <td>Latta</td>\n",
       "      <td>Jacksonville</td>\n",
       "      <td>499.38</td>\n",
       "      <td>330.0</td>\n",
       "      <td>2016</td>\n",
       "      <td>Mar</td>\n",
       "      <td>Friday</td>\n",
       "      <td>25</td>\n",
       "      <td>Night</td>\n",
       "    </tr>\n",
       "  </tbody>\n",
       "</table>\n",
       "</div>"
      ],
      "text/plain": [
       "            START_DATE*           END_DATE* CATEGORY* START*         STOP*  \\\n",
       "269 2016-03-25 16:52:00 2016-03-25 22:22:00  Business  Latta  Jacksonville   \n",
       "\n",
       "        KM*  DURATION*  year month day_name  day period  \n",
       "269  499.38      330.0  2016   Mar   Friday   25  Night  "
      ]
     },
     "execution_count": 802,
     "metadata": {},
     "output_type": "execute_result"
    }
   ],
   "source": [
    "df[df['KM*']>=400] \n",
    "## this trip spent 4 hours so it make senese don't drop it "
   ]
  },
  {
   "cell_type": "code",
   "execution_count": 803,
   "id": "b035bd99",
   "metadata": {},
   "outputs": [
    {
     "data": {
      "text/plain": [
       "array([ 1.37,  0.67,  0.59,  0.54,  1.53,  1.73,  2.29,  0.22,  0.98,\n",
       "        0.4 ,  0.34,  0.5 ,  0.37,  0.2 ,  0.24,  0.19,  0.21,  0.26,\n",
       "        0.27,  0.42,  1.39,  0.68,  1.05,  0.64,  0.84,  0.93,  0.7 ,\n",
       "        0.69,  0.83,  0.87,  0.79,  0.78,  1.2 ,  0.48,  0.32,  0.36,\n",
       "        0.46,  0.38,  0.45,  0.41,  1.04,  0.55,  0.94,  0.96,  1.18,\n",
       "        0.53,  0.76,  0.71,  0.44,  0.47,  0.61,  1.14,  0.57,  0.49,\n",
       "        0.43,  0.65,  0.88,  0.56,  0.6 ,  0.75,  0.66,  0.63,  0.51,\n",
       "        0.99,  1.3 ,  0.85,  0.8 ,  0.72,  0.29,  0.77,  0.97,  1.35,\n",
       "        0.35,  0.91,  1.45,  0.16,  4.73,  0.39,  2.45,  0.3 ,  1.  ,\n",
       "        0.82,  0.58,  1.72,  0.62,  0.52,  0.74,  0.23,  0.18,  0.28,\n",
       "        0.31,  0.89,  1.01,  0.25,  1.57,  1.16,  1.06,  0.92,  0.33,\n",
       "        0.86,  1.11,  1.42,  0.17,  1.51,  1.96,  1.33,  1.31,  1.8 ,\n",
       "        1.58,  1.62,  1.89,  1.21,  2.78,  1.23,  1.9 ,  1.6 ,  1.54,\n",
       "        1.95,  1.22,  1.25,  6.12,  1.64,  1.81,  1.26,  1.99,  1.48,\n",
       "        1.34,  0.73,  1.67,  1.09,  1.68,  1.07,  1.28,  0.9 ,  1.12,\n",
       "        2.39,  1.27,  0.81,  1.03,  1.77,  1.61,  1.02,  1.13,  0.11,\n",
       "        1.08,  0.95,  1.46,   inf,  3.46,  7.88,  3.78,  1.15,  1.4 ,\n",
       "        0.13,  4.66,  0.15,  5.63, 24.3 , 10.66, 14.8 , 17.81,  4.29,\n",
       "        9.87,  1.32,  1.1 ,  1.38,  1.17,  1.74,  3.19,  1.19,  2.2 ])"
      ]
     },
     "execution_count": 803,
     "metadata": {},
     "output_type": "execute_result"
    }
   ],
   "source": [
    "## let's get the speed \n",
    "df['speed*']=np.round((df['KM*']/df['DURATION*']),2)\n",
    "df['speed*'].unique()"
   ]
  },
  {
   "cell_type": "code",
   "execution_count": 804,
   "id": "d5378d04",
   "metadata": {},
   "outputs": [
    {
     "data": {
      "text/plain": [
       "count    1154.00\n",
       "mean         inf\n",
       "std          NaN\n",
       "min         0.11\n",
       "25%         0.40\n",
       "50%         0.56\n",
       "75%         0.77\n",
       "max          inf\n",
       "Name: speed*, dtype: float64"
      ]
     },
     "execution_count": 804,
     "metadata": {},
     "output_type": "execute_result"
    }
   ],
   "source": [
    "df['speed*'].describe()"
   ]
  },
  {
   "cell_type": "code",
   "execution_count": 805,
   "id": "c4aa2b81",
   "metadata": {},
   "outputs": [
    {
     "data": {
      "text/html": [
       "<div>\n",
       "<style scoped>\n",
       "    .dataframe tbody tr th:only-of-type {\n",
       "        vertical-align: middle;\n",
       "    }\n",
       "\n",
       "    .dataframe tbody tr th {\n",
       "        vertical-align: top;\n",
       "    }\n",
       "\n",
       "    .dataframe thead th {\n",
       "        text-align: right;\n",
       "    }\n",
       "</style>\n",
       "<table border=\"1\" class=\"dataframe\">\n",
       "  <thead>\n",
       "    <tr style=\"text-align: right;\">\n",
       "      <th></th>\n",
       "      <th>START_DATE*</th>\n",
       "      <th>END_DATE*</th>\n",
       "      <th>CATEGORY*</th>\n",
       "      <th>START*</th>\n",
       "      <th>STOP*</th>\n",
       "      <th>KM*</th>\n",
       "      <th>DURATION*</th>\n",
       "      <th>year</th>\n",
       "      <th>month</th>\n",
       "      <th>day_name</th>\n",
       "      <th>day</th>\n",
       "      <th>period</th>\n",
       "      <th>speed*</th>\n",
       "    </tr>\n",
       "  </thead>\n",
       "  <tbody>\n",
       "    <tr>\n",
       "      <th>751</th>\n",
       "      <td>2016-09-06 17:49:00</td>\n",
       "      <td>2016-09-06 17:49:00</td>\n",
       "      <td>Business</td>\n",
       "      <td>Granta</td>\n",
       "      <td>Koamo</td>\n",
       "      <td>111.21</td>\n",
       "      <td>0.0</td>\n",
       "      <td>2016</td>\n",
       "      <td>Sep</td>\n",
       "      <td>Tuesday</td>\n",
       "      <td>6</td>\n",
       "      <td>Morning</td>\n",
       "      <td>inf</td>\n",
       "    </tr>\n",
       "    <tr>\n",
       "      <th>761</th>\n",
       "      <td>2016-09-16 07:08:00</td>\n",
       "      <td>2016-09-16 07:08:00</td>\n",
       "      <td>Business</td>\n",
       "      <td>Granta</td>\n",
       "      <td>Koamo</td>\n",
       "      <td>2.57</td>\n",
       "      <td>0.0</td>\n",
       "      <td>2016</td>\n",
       "      <td>Sep</td>\n",
       "      <td>Friday</td>\n",
       "      <td>16</td>\n",
       "      <td>Afternoon</td>\n",
       "      <td>inf</td>\n",
       "    </tr>\n",
       "    <tr>\n",
       "      <th>798</th>\n",
       "      <td>2016-10-08 15:03:00</td>\n",
       "      <td>2016-10-08 15:03:00</td>\n",
       "      <td>Business</td>\n",
       "      <td>Karachi</td>\n",
       "      <td>Karachi</td>\n",
       "      <td>5.79</td>\n",
       "      <td>0.0</td>\n",
       "      <td>2016</td>\n",
       "      <td>Oct</td>\n",
       "      <td>Saturday</td>\n",
       "      <td>8</td>\n",
       "      <td>Morning</td>\n",
       "      <td>inf</td>\n",
       "    </tr>\n",
       "    <tr>\n",
       "      <th>807</th>\n",
       "      <td>2016-10-13 13:02:00</td>\n",
       "      <td>2016-10-13 13:02:00</td>\n",
       "      <td>Business</td>\n",
       "      <td>Islamabad</td>\n",
       "      <td>Islamabad</td>\n",
       "      <td>1.13</td>\n",
       "      <td>0.0</td>\n",
       "      <td>2016</td>\n",
       "      <td>Oct</td>\n",
       "      <td>Thursday</td>\n",
       "      <td>13</td>\n",
       "      <td>Afternoon</td>\n",
       "      <td>inf</td>\n",
       "    </tr>\n",
       "  </tbody>\n",
       "</table>\n",
       "</div>"
      ],
      "text/plain": [
       "            START_DATE*           END_DATE* CATEGORY*     START*      STOP*  \\\n",
       "751 2016-09-06 17:49:00 2016-09-06 17:49:00  Business     Granta      Koamo   \n",
       "761 2016-09-16 07:08:00 2016-09-16 07:08:00  Business     Granta      Koamo   \n",
       "798 2016-10-08 15:03:00 2016-10-08 15:03:00  Business    Karachi    Karachi   \n",
       "807 2016-10-13 13:02:00 2016-10-13 13:02:00  Business  Islamabad  Islamabad   \n",
       "\n",
       "        KM*  DURATION*  year month  day_name  day     period  speed*  \n",
       "751  111.21        0.0  2016   Sep   Tuesday    6    Morning     inf  \n",
       "761    2.57        0.0  2016   Sep    Friday   16  Afternoon     inf  \n",
       "798    5.79        0.0  2016   Oct  Saturday    8    Morning     inf  \n",
       "807    1.13        0.0  2016   Oct  Thursday   13  Afternoon     inf  "
      ]
     },
     "execution_count": 805,
     "metadata": {},
     "output_type": "execute_result"
    }
   ],
   "source": [
    "## it looks like data of speed has inf \n",
    "df[df['speed*']==np.inf]"
   ]
  },
  {
   "cell_type": "code",
   "execution_count": 806,
   "id": "58390e4e",
   "metadata": {},
   "outputs": [],
   "source": [
    "## lets solve this issue \n",
    "M=df[df['DURATION*']>100]['DURATION*'].mean()\n",
    "df.at[751,'DURATION*']=M"
   ]
  },
  {
   "cell_type": "code",
   "execution_count": 807,
   "id": "7618cbc0",
   "metadata": {},
   "outputs": [
    {
     "data": {
      "text/plain": [
       "3.59"
      ]
     },
     "execution_count": 807,
     "metadata": {},
     "output_type": "execute_result"
    }
   ],
   "source": [
    "mean_1_5=np.round(df[df['KM*'].between(1,6)]['KM*'].mean(),2)\n",
    "mean_1_5"
   ]
  },
  {
   "cell_type": "code",
   "execution_count": 808,
   "id": "9183e834",
   "metadata": {},
   "outputs": [],
   "source": [
    "for ind,row in df.iterrows():\n",
    "    if df.at[ind,'speed*']==np.inf:\n",
    "        if ind in [761,798,807]:\n",
    "            df.at[ind,'DURATION*']=mean_1_5\n",
    "            "
   ]
  },
  {
   "cell_type": "code",
   "execution_count": 809,
   "id": "616d335f",
   "metadata": {},
   "outputs": [
    {
     "data": {
      "text/plain": [
       "array([ 1.37,  0.67,  0.59,  0.54,  1.53,  1.73,  2.29,  0.22,  0.98,\n",
       "        0.4 ,  0.34,  0.5 ,  0.37,  0.2 ,  0.24,  0.19,  0.21,  0.26,\n",
       "        0.27,  0.42,  1.39,  0.68,  1.05,  0.64,  0.84,  0.93,  0.7 ,\n",
       "        0.69,  0.83,  0.87,  0.79,  0.78,  1.2 ,  0.48,  0.32,  0.36,\n",
       "        0.46,  0.38,  0.45,  0.41,  1.04,  0.55,  0.94,  0.96,  1.18,\n",
       "        0.53,  0.76,  0.71,  0.44,  0.47,  0.61,  1.14,  0.57,  0.49,\n",
       "        0.43,  0.65,  0.88,  0.56,  0.6 ,  0.75,  0.66,  0.63,  0.51,\n",
       "        0.99,  1.3 ,  0.85,  0.8 ,  0.72,  0.29,  0.77,  0.97,  1.35,\n",
       "        0.35,  0.91,  1.45,  0.16,  4.73,  0.39,  2.45,  0.3 ,  1.  ,\n",
       "        0.82,  0.58,  1.72,  0.62,  0.52,  0.74,  0.23,  0.18,  0.28,\n",
       "        0.31,  0.89,  1.01,  0.25,  1.57,  1.16,  1.06,  0.92,  0.33,\n",
       "        0.86,  1.11,  1.42,  0.17,  1.51,  1.96,  1.33,  1.31,  1.8 ,\n",
       "        1.58,  1.62,  1.89,  1.21,  2.78,  1.23,  1.9 ,  1.6 ,  1.54,\n",
       "        1.95,  1.22,  1.25,  6.12,  1.64,  1.81,  1.26,  1.99,  1.48,\n",
       "        1.34,  0.73,  1.67,  1.09,  1.68,  1.07,  1.28,  0.9 ,  1.12,\n",
       "        2.39,  1.27,  0.81,  1.03,  1.77,  1.61,  1.02,  1.13,  0.11,\n",
       "        1.08,  0.95,  1.46,  3.46,  7.88,  3.78,  1.15,  1.4 ,  0.13,\n",
       "        4.66,  0.15,  5.63, 24.3 , 10.66, 14.8 , 17.81,  4.29,  9.87,\n",
       "        1.32,  1.1 ,  1.38,  1.17,  1.74,  3.19,  1.19,  2.2 ])"
      ]
     },
     "execution_count": 809,
     "metadata": {},
     "output_type": "execute_result"
    }
   ],
   "source": [
    "##\n",
    "df['speed*']=np.round((df['KM*']/df['DURATION*']),2)\n",
    "df['speed*'].unique()"
   ]
  },
  {
   "cell_type": "code",
   "execution_count": 810,
   "id": "a3cfc15d",
   "metadata": {},
   "outputs": [
    {
     "data": {
      "text/html": [
       "<div>\n",
       "<style scoped>\n",
       "    .dataframe tbody tr th:only-of-type {\n",
       "        vertical-align: middle;\n",
       "    }\n",
       "\n",
       "    .dataframe tbody tr th {\n",
       "        vertical-align: top;\n",
       "    }\n",
       "\n",
       "    .dataframe thead th {\n",
       "        text-align: right;\n",
       "    }\n",
       "</style>\n",
       "<table border=\"1\" class=\"dataframe\">\n",
       "  <thead>\n",
       "    <tr style=\"text-align: right;\">\n",
       "      <th></th>\n",
       "      <th>START_DATE*</th>\n",
       "      <th>END_DATE*</th>\n",
       "      <th>CATEGORY*</th>\n",
       "      <th>START*</th>\n",
       "      <th>STOP*</th>\n",
       "      <th>KM*</th>\n",
       "      <th>DURATION*</th>\n",
       "      <th>year</th>\n",
       "      <th>month</th>\n",
       "      <th>day_name</th>\n",
       "      <th>day</th>\n",
       "      <th>period</th>\n",
       "      <th>speed*</th>\n",
       "    </tr>\n",
       "  </thead>\n",
       "  <tbody>\n",
       "  </tbody>\n",
       "</table>\n",
       "</div>"
      ],
      "text/plain": [
       "Empty DataFrame\n",
       "Columns: [START_DATE*, END_DATE*, CATEGORY*, START*, STOP*, KM*, DURATION*, year, month, day_name, day, period, speed*]\n",
       "Index: []"
      ]
     },
     "execution_count": 810,
     "metadata": {},
     "output_type": "execute_result"
    }
   ],
   "source": [
    "## LOOK AGAIN AT THEM\n",
    "df[df['speed*']==np.inf]"
   ]
  },
  {
   "cell_type": "markdown",
   "id": "df247eb8",
   "metadata": {},
   "source": [
    "## Check Outliers"
   ]
  },
  {
   "cell_type": "code",
   "execution_count": 811,
   "id": "c79aaa5f",
   "metadata": {},
   "outputs": [],
   "source": [
    "from datasist.structdata import detect_outliers"
   ]
  },
  {
   "cell_type": "code",
   "execution_count": 812,
   "id": "55857a16",
   "metadata": {},
   "outputs": [
    {
     "data": {
      "text/plain": [
       "[0,\n",
       " 4,\n",
       " 5,\n",
       " 6,\n",
       " 23,\n",
       " 108,\n",
       " 116,\n",
       " 121,\n",
       " 126,\n",
       " 142,\n",
       " 232,\n",
       " 251,\n",
       " 261,\n",
       " 269,\n",
       " 270,\n",
       " 281,\n",
       " 285,\n",
       " 296,\n",
       " 297,\n",
       " 298,\n",
       " 299,\n",
       " 335,\n",
       " 355,\n",
       " 357,\n",
       " 358,\n",
       " 359,\n",
       " 375,\n",
       " 377,\n",
       " 383,\n",
       " 405,\n",
       " 425,\n",
       " 427,\n",
       " 431,\n",
       " 438,\n",
       " 452,\n",
       " 525,\n",
       " 536,\n",
       " 546,\n",
       " 559,\n",
       " 607,\n",
       " 646,\n",
       " 672,\n",
       " 726,\n",
       " 727,\n",
       " 750,\n",
       " 753,\n",
       " 754,\n",
       " 762,\n",
       " 768,\n",
       " 773,\n",
       " 781,\n",
       " 786,\n",
       " 788,\n",
       " 789,\n",
       " 791,\n",
       " 798,\n",
       " 799,\n",
       " 804,\n",
       " 841,\n",
       " 842,\n",
       " 843,\n",
       " 869,\n",
       " 870,\n",
       " 871,\n",
       " 880,\n",
       " 881,\n",
       " 933,\n",
       " 936,\n",
       " 960,\n",
       " 961,\n",
       " 1094]"
      ]
     },
     "execution_count": 812,
     "metadata": {},
     "output_type": "execute_result"
    }
   ],
   "source": [
    "detect_outliers(data=df, n=0 , features=['speed*'] )"
   ]
  },
  {
   "cell_type": "code",
   "execution_count": 813,
   "id": "212e9bc4",
   "metadata": {},
   "outputs": [
    {
     "data": {
      "text/html": [
       "<div>\n",
       "<style scoped>\n",
       "    .dataframe tbody tr th:only-of-type {\n",
       "        vertical-align: middle;\n",
       "    }\n",
       "\n",
       "    .dataframe tbody tr th {\n",
       "        vertical-align: top;\n",
       "    }\n",
       "\n",
       "    .dataframe thead th {\n",
       "        text-align: right;\n",
       "    }\n",
       "</style>\n",
       "<table border=\"1\" class=\"dataframe\">\n",
       "  <thead>\n",
       "    <tr style=\"text-align: right;\">\n",
       "      <th></th>\n",
       "      <th>START_DATE*</th>\n",
       "      <th>END_DATE*</th>\n",
       "      <th>CATEGORY*</th>\n",
       "      <th>START*</th>\n",
       "      <th>STOP*</th>\n",
       "      <th>KM*</th>\n",
       "      <th>DURATION*</th>\n",
       "      <th>year</th>\n",
       "      <th>month</th>\n",
       "      <th>day_name</th>\n",
       "      <th>day</th>\n",
       "      <th>period</th>\n",
       "      <th>speed*</th>\n",
       "    </tr>\n",
       "  </thead>\n",
       "  <tbody>\n",
       "    <tr>\n",
       "      <th>0</th>\n",
       "      <td>2016-01-01 21:11:00</td>\n",
       "      <td>2016-01-01 21:17:00</td>\n",
       "      <td>Business</td>\n",
       "      <td>Fort Pierce</td>\n",
       "      <td>Fort Pierce</td>\n",
       "      <td>8.21</td>\n",
       "      <td>6.0</td>\n",
       "      <td>2016</td>\n",
       "      <td>Jan</td>\n",
       "      <td>Friday</td>\n",
       "      <td>1</td>\n",
       "      <td>Morning</td>\n",
       "      <td>1.37</td>\n",
       "    </tr>\n",
       "    <tr>\n",
       "      <th>4</th>\n",
       "      <td>2016-01-06 14:42:00</td>\n",
       "      <td>2016-01-06 15:49:00</td>\n",
       "      <td>Business</td>\n",
       "      <td>Fort Pierce</td>\n",
       "      <td>West Palm Beach</td>\n",
       "      <td>102.51</td>\n",
       "      <td>67.0</td>\n",
       "      <td>2016</td>\n",
       "      <td>Jan</td>\n",
       "      <td>Wednesday</td>\n",
       "      <td>6</td>\n",
       "      <td>Morning</td>\n",
       "      <td>1.53</td>\n",
       "    </tr>\n",
       "    <tr>\n",
       "      <th>5</th>\n",
       "      <td>2016-01-06 17:15:00</td>\n",
       "      <td>2016-01-06 17:19:00</td>\n",
       "      <td>Business</td>\n",
       "      <td>West Palm Beach</td>\n",
       "      <td>West Palm Beach</td>\n",
       "      <td>6.92</td>\n",
       "      <td>4.0</td>\n",
       "      <td>2016</td>\n",
       "      <td>Jan</td>\n",
       "      <td>Wednesday</td>\n",
       "      <td>6</td>\n",
       "      <td>Morning</td>\n",
       "      <td>1.73</td>\n",
       "    </tr>\n",
       "    <tr>\n",
       "      <th>6</th>\n",
       "      <td>2016-01-06 17:30:00</td>\n",
       "      <td>2016-01-06 17:35:00</td>\n",
       "      <td>Business</td>\n",
       "      <td>West Palm Beach</td>\n",
       "      <td>Palm Beach</td>\n",
       "      <td>11.43</td>\n",
       "      <td>5.0</td>\n",
       "      <td>2016</td>\n",
       "      <td>Jan</td>\n",
       "      <td>Wednesday</td>\n",
       "      <td>6</td>\n",
       "      <td>Morning</td>\n",
       "      <td>2.29</td>\n",
       "    </tr>\n",
       "    <tr>\n",
       "      <th>23</th>\n",
       "      <td>2016-01-13 13:54:00</td>\n",
       "      <td>2016-01-13 14:07:00</td>\n",
       "      <td>Business</td>\n",
       "      <td>Downtown</td>\n",
       "      <td>Gulfton</td>\n",
       "      <td>18.02</td>\n",
       "      <td>13.0</td>\n",
       "      <td>2016</td>\n",
       "      <td>Jan</td>\n",
       "      <td>Wednesday</td>\n",
       "      <td>13</td>\n",
       "      <td>Afternoon</td>\n",
       "      <td>1.39</td>\n",
       "    </tr>\n",
       "    <tr>\n",
       "      <th>...</th>\n",
       "      <td>...</td>\n",
       "      <td>...</td>\n",
       "      <td>...</td>\n",
       "      <td>...</td>\n",
       "      <td>...</td>\n",
       "      <td>...</td>\n",
       "      <td>...</td>\n",
       "      <td>...</td>\n",
       "      <td>...</td>\n",
       "      <td>...</td>\n",
       "      <td>...</td>\n",
       "      <td>...</td>\n",
       "      <td>...</td>\n",
       "    </tr>\n",
       "    <tr>\n",
       "      <th>933</th>\n",
       "      <td>2016-11-10 15:17:00</td>\n",
       "      <td>2016-11-10 15:22:00</td>\n",
       "      <td>Business</td>\n",
       "      <td>San Francisco</td>\n",
       "      <td>Oakland</td>\n",
       "      <td>15.93</td>\n",
       "      <td>5.0</td>\n",
       "      <td>2016</td>\n",
       "      <td>Nov</td>\n",
       "      <td>Thursday</td>\n",
       "      <td>10</td>\n",
       "      <td>Morning</td>\n",
       "      <td>3.19</td>\n",
       "    </tr>\n",
       "    <tr>\n",
       "      <th>936</th>\n",
       "      <td>2016-11-11 09:35:00</td>\n",
       "      <td>2016-11-11 10:23:00</td>\n",
       "      <td>Business</td>\n",
       "      <td>Berkeley</td>\n",
       "      <td>Menlo Park</td>\n",
       "      <td>73.87</td>\n",
       "      <td>48.0</td>\n",
       "      <td>2016</td>\n",
       "      <td>Nov</td>\n",
       "      <td>Friday</td>\n",
       "      <td>11</td>\n",
       "      <td>Morning</td>\n",
       "      <td>1.54</td>\n",
       "    </tr>\n",
       "    <tr>\n",
       "      <th>960</th>\n",
       "      <td>2016-11-14 11:24:00</td>\n",
       "      <td>2016-11-14 12:13:00</td>\n",
       "      <td>Business</td>\n",
       "      <td>Berkeley</td>\n",
       "      <td>Mountain View</td>\n",
       "      <td>71.78</td>\n",
       "      <td>49.0</td>\n",
       "      <td>2016</td>\n",
       "      <td>Nov</td>\n",
       "      <td>Monday</td>\n",
       "      <td>14</td>\n",
       "      <td>Afternoon</td>\n",
       "      <td>1.46</td>\n",
       "    </tr>\n",
       "    <tr>\n",
       "      <th>961</th>\n",
       "      <td>2016-11-14 13:40:00</td>\n",
       "      <td>2016-11-14 14:33:00</td>\n",
       "      <td>Business</td>\n",
       "      <td>Mountain View</td>\n",
       "      <td>Berkeley</td>\n",
       "      <td>70.17</td>\n",
       "      <td>53.0</td>\n",
       "      <td>2016</td>\n",
       "      <td>Nov</td>\n",
       "      <td>Monday</td>\n",
       "      <td>14</td>\n",
       "      <td>Afternoon</td>\n",
       "      <td>1.32</td>\n",
       "    </tr>\n",
       "    <tr>\n",
       "      <th>1094</th>\n",
       "      <td>2016-12-22 18:38:00</td>\n",
       "      <td>2016-12-22 18:47:00</td>\n",
       "      <td>Business</td>\n",
       "      <td>Granta</td>\n",
       "      <td>Koamo</td>\n",
       "      <td>19.79</td>\n",
       "      <td>9.0</td>\n",
       "      <td>2016</td>\n",
       "      <td>Dec</td>\n",
       "      <td>Thursday</td>\n",
       "      <td>22</td>\n",
       "      <td>Night</td>\n",
       "      <td>2.20</td>\n",
       "    </tr>\n",
       "  </tbody>\n",
       "</table>\n",
       "<p>71 rows × 13 columns</p>\n",
       "</div>"
      ],
      "text/plain": [
       "             START_DATE*           END_DATE* CATEGORY*           START*  \\\n",
       "0    2016-01-01 21:11:00 2016-01-01 21:17:00  Business      Fort Pierce   \n",
       "4    2016-01-06 14:42:00 2016-01-06 15:49:00  Business      Fort Pierce   \n",
       "5    2016-01-06 17:15:00 2016-01-06 17:19:00  Business  West Palm Beach   \n",
       "6    2016-01-06 17:30:00 2016-01-06 17:35:00  Business  West Palm Beach   \n",
       "23   2016-01-13 13:54:00 2016-01-13 14:07:00  Business         Downtown   \n",
       "...                  ...                 ...       ...              ...   \n",
       "933  2016-11-10 15:17:00 2016-11-10 15:22:00  Business    San Francisco   \n",
       "936  2016-11-11 09:35:00 2016-11-11 10:23:00  Business         Berkeley   \n",
       "960  2016-11-14 11:24:00 2016-11-14 12:13:00  Business         Berkeley   \n",
       "961  2016-11-14 13:40:00 2016-11-14 14:33:00  Business    Mountain View   \n",
       "1094 2016-12-22 18:38:00 2016-12-22 18:47:00  Business           Granta   \n",
       "\n",
       "                STOP*     KM*  DURATION*  year month   day_name  day  \\\n",
       "0         Fort Pierce    8.21        6.0  2016   Jan     Friday    1   \n",
       "4     West Palm Beach  102.51       67.0  2016   Jan  Wednesday    6   \n",
       "5     West Palm Beach    6.92        4.0  2016   Jan  Wednesday    6   \n",
       "6          Palm Beach   11.43        5.0  2016   Jan  Wednesday    6   \n",
       "23            Gulfton   18.02       13.0  2016   Jan  Wednesday   13   \n",
       "...               ...     ...        ...   ...   ...        ...  ...   \n",
       "933           Oakland   15.93        5.0  2016   Nov   Thursday   10   \n",
       "936        Menlo Park   73.87       48.0  2016   Nov     Friday   11   \n",
       "960     Mountain View   71.78       49.0  2016   Nov     Monday   14   \n",
       "961          Berkeley   70.17       53.0  2016   Nov     Monday   14   \n",
       "1094            Koamo   19.79        9.0  2016   Dec   Thursday   22   \n",
       "\n",
       "         period  speed*  \n",
       "0       Morning    1.37  \n",
       "4       Morning    1.53  \n",
       "5       Morning    1.73  \n",
       "6       Morning    2.29  \n",
       "23    Afternoon    1.39  \n",
       "...         ...     ...  \n",
       "933     Morning    3.19  \n",
       "936     Morning    1.54  \n",
       "960   Afternoon    1.46  \n",
       "961   Afternoon    1.32  \n",
       "1094      Night    2.20  \n",
       "\n",
       "[71 rows x 13 columns]"
      ]
     },
     "execution_count": 813,
     "metadata": {},
     "output_type": "execute_result"
    }
   ],
   "source": [
    "df.loc[detect_outliers(data=df, n=0 , features=['speed*'] )]"
   ]
  },
  {
   "cell_type": "code",
   "execution_count": 814,
   "id": "f59a98c2",
   "metadata": {},
   "outputs": [
    {
     "data": {
      "text/html": [
       "<div>\n",
       "<style scoped>\n",
       "    .dataframe tbody tr th:only-of-type {\n",
       "        vertical-align: middle;\n",
       "    }\n",
       "\n",
       "    .dataframe tbody tr th {\n",
       "        vertical-align: top;\n",
       "    }\n",
       "\n",
       "    .dataframe thead th {\n",
       "        text-align: right;\n",
       "    }\n",
       "</style>\n",
       "<table border=\"1\" class=\"dataframe\">\n",
       "  <thead>\n",
       "    <tr style=\"text-align: right;\">\n",
       "      <th></th>\n",
       "      <th>KM*</th>\n",
       "      <th>DURATION*</th>\n",
       "      <th>year</th>\n",
       "      <th>day</th>\n",
       "      <th>speed*</th>\n",
       "    </tr>\n",
       "  </thead>\n",
       "  <tbody>\n",
       "    <tr>\n",
       "      <th>count</th>\n",
       "      <td>1154.000000</td>\n",
       "      <td>1154.000000</td>\n",
       "      <td>1154.0</td>\n",
       "      <td>1154.000000</td>\n",
       "      <td>1154.000000</td>\n",
       "    </tr>\n",
       "    <tr>\n",
       "      <th>mean</th>\n",
       "      <td>17.006716</td>\n",
       "      <td>23.386976</td>\n",
       "      <td>2016.0</td>\n",
       "      <td>16.298960</td>\n",
       "      <td>0.719376</td>\n",
       "    </tr>\n",
       "    <tr>\n",
       "      <th>std</th>\n",
       "      <td>34.743156</td>\n",
       "      <td>27.595531</td>\n",
       "      <td>0.0</td>\n",
       "      <td>8.710127</td>\n",
       "      <td>1.156893</td>\n",
       "    </tr>\n",
       "    <tr>\n",
       "      <th>min</th>\n",
       "      <td>0.800000</td>\n",
       "      <td>1.000000</td>\n",
       "      <td>2016.0</td>\n",
       "      <td>1.000000</td>\n",
       "      <td>0.110000</td>\n",
       "    </tr>\n",
       "    <tr>\n",
       "      <th>25%</th>\n",
       "      <td>4.670000</td>\n",
       "      <td>10.000000</td>\n",
       "      <td>2016.0</td>\n",
       "      <td>9.000000</td>\n",
       "      <td>0.400000</td>\n",
       "    </tr>\n",
       "    <tr>\n",
       "      <th>50%</th>\n",
       "      <td>9.660000</td>\n",
       "      <td>16.000000</td>\n",
       "      <td>2016.0</td>\n",
       "      <td>17.000000</td>\n",
       "      <td>0.560000</td>\n",
       "    </tr>\n",
       "    <tr>\n",
       "      <th>75%</th>\n",
       "      <td>16.740000</td>\n",
       "      <td>28.000000</td>\n",
       "      <td>2016.0</td>\n",
       "      <td>24.000000</td>\n",
       "      <td>0.760000</td>\n",
       "    </tr>\n",
       "    <tr>\n",
       "      <th>max</th>\n",
       "      <td>499.380000</td>\n",
       "      <td>336.000000</td>\n",
       "      <td>2016.0</td>\n",
       "      <td>31.000000</td>\n",
       "      <td>24.300000</td>\n",
       "    </tr>\n",
       "  </tbody>\n",
       "</table>\n",
       "</div>"
      ],
      "text/plain": [
       "               KM*    DURATION*    year          day       speed*\n",
       "count  1154.000000  1154.000000  1154.0  1154.000000  1154.000000\n",
       "mean     17.006716    23.386976  2016.0    16.298960     0.719376\n",
       "std      34.743156    27.595531     0.0     8.710127     1.156893\n",
       "min       0.800000     1.000000  2016.0     1.000000     0.110000\n",
       "25%       4.670000    10.000000  2016.0     9.000000     0.400000\n",
       "50%       9.660000    16.000000  2016.0    17.000000     0.560000\n",
       "75%      16.740000    28.000000  2016.0    24.000000     0.760000\n",
       "max     499.380000   336.000000  2016.0    31.000000    24.300000"
      ]
     },
     "execution_count": 814,
     "metadata": {},
     "output_type": "execute_result"
    }
   ],
   "source": [
    "df.describe()"
   ]
  },
  {
   "cell_type": "code",
   "execution_count": 815,
   "id": "04dec4f0",
   "metadata": {},
   "outputs": [
    {
     "data": {
      "text/plain": [
       "<AxesSubplot:xlabel='KM*'>"
      ]
     },
     "execution_count": 815,
     "metadata": {},
     "output_type": "execute_result"
    },
    {
     "data": {
      "image/png": "[encoded data removed]",
      "text/plain": [
       "<Figure size 1080x576 with 1 Axes>"
      ]
     },
     "metadata": {},
     "output_type": "display_data"
    }
   ],
   "source": [
    "sns.boxplot(data=df, x='KM*')"
   ]
  },
  {
   "cell_type": "code",
   "execution_count": 816,
   "id": "11023b2e",
   "metadata": {},
   "outputs": [
    {
     "data": {
      "text/html": [
       "<div>\n",
       "<style scoped>\n",
       "    .dataframe tbody tr th:only-of-type {\n",
       "        vertical-align: middle;\n",
       "    }\n",
       "\n",
       "    .dataframe tbody tr th {\n",
       "        vertical-align: top;\n",
       "    }\n",
       "\n",
       "    .dataframe thead th {\n",
       "        text-align: right;\n",
       "    }\n",
       "</style>\n",
       "<table border=\"1\" class=\"dataframe\">\n",
       "  <thead>\n",
       "    <tr style=\"text-align: right;\">\n",
       "      <th></th>\n",
       "      <th>START_DATE*</th>\n",
       "      <th>END_DATE*</th>\n",
       "      <th>CATEGORY*</th>\n",
       "      <th>START*</th>\n",
       "      <th>STOP*</th>\n",
       "      <th>KM*</th>\n",
       "      <th>DURATION*</th>\n",
       "      <th>year</th>\n",
       "      <th>month</th>\n",
       "      <th>day_name</th>\n",
       "      <th>day</th>\n",
       "      <th>period</th>\n",
       "      <th>speed*</th>\n",
       "    </tr>\n",
       "  </thead>\n",
       "  <tbody>\n",
       "    <tr>\n",
       "      <th>269</th>\n",
       "      <td>2016-03-25 16:52:00</td>\n",
       "      <td>2016-03-25 22:22:00</td>\n",
       "      <td>Business</td>\n",
       "      <td>Latta</td>\n",
       "      <td>Jacksonville</td>\n",
       "      <td>499.38</td>\n",
       "      <td>330.0</td>\n",
       "      <td>2016</td>\n",
       "      <td>Mar</td>\n",
       "      <td>Friday</td>\n",
       "      <td>25</td>\n",
       "      <td>Night</td>\n",
       "      <td>1.51</td>\n",
       "    </tr>\n",
       "  </tbody>\n",
       "</table>\n",
       "</div>"
      ],
      "text/plain": [
       "            START_DATE*           END_DATE* CATEGORY* START*         STOP*  \\\n",
       "269 2016-03-25 16:52:00 2016-03-25 22:22:00  Business  Latta  Jacksonville   \n",
       "\n",
       "        KM*  DURATION*  year month day_name  day period  speed*  \n",
       "269  499.38      330.0  2016   Mar   Friday   25  Night    1.51  "
      ]
     },
     "execution_count": 816,
     "metadata": {},
     "output_type": "execute_result"
    }
   ],
   "source": [
    "df[df['KM*']>400]"
   ]
  },
  {
   "cell_type": "code",
   "execution_count": 817,
   "id": "d271a9bd",
   "metadata": {},
   "outputs": [],
   "source": [
    "## THE outliers here make sense because it's the distance "
   ]
  },
  {
   "cell_type": "code",
   "execution_count": 818,
   "id": "b2e3ae96",
   "metadata": {},
   "outputs": [
    {
     "data": {
      "text/plain": [
       "<AxesSubplot:>"
      ]
     },
     "execution_count": 818,
     "metadata": {},
     "output_type": "execute_result"
    },
    {
     "data": {
      "image/png": "[encoded data removed]",
      "text/plain": [
       "<Figure size 1080x576 with 2 Axes>"
      ]
     },
     "metadata": {},
     "output_type": "display_data"
    }
   ],
   "source": [
    "sns.heatmap(df[['KM*','DURATION*']].corr(), annot=True)\n",
    "# since the correlation between time and kms propotional hence the speed outliers are meaningful "
   ]
  },
  {
   "cell_type": "markdown",
   "id": "8afdd69a",
   "metadata": {},
   "source": [
    "## Q3 <font color='green'> Describe the speed of all trips </font>"
   ]
  },
  {
   "cell_type": "code",
   "execution_count": 819,
   "id": "a45e250a",
   "metadata": {},
   "outputs": [
    {
     "data": {
      "text/plain": [
       "count    1154.000000\n",
       "mean        0.719376\n",
       "std         1.156893\n",
       "min         0.110000\n",
       "25%         0.400000\n",
       "50%         0.560000\n",
       "75%         0.760000\n",
       "max        24.300000\n",
       "Name: speed*, dtype: float64"
      ]
     },
     "execution_count": 819,
     "metadata": {},
     "output_type": "execute_result"
    }
   ],
   "source": [
    "df['speed*'].describe()"
   ]
  },
  {
   "cell_type": "markdown",
   "id": "ba5ce818",
   "metadata": {},
   "source": [
    "## Q4 <font color='green'> KMS been driven from Fort Pierce to Fort Pierce and how many trips\n"
   ]
  },
  {
   "cell_type": "code",
   "execution_count": 820,
   "id": "a92b00d4",
   "metadata": {},
   "outputs": [
    {
     "name": "stdout",
     "output_type": "stream",
     "text": [
      "total_kms= 31.54 KM\n"
     ]
    }
   ],
   "source": [
    "print('total_kms=',df[(df['START*']=='Fort Pierce') & (df['STOP*']=='Fort Pierce')]['KM*'].sum(),'KM')"
   ]
  },
  {
   "cell_type": "code",
   "execution_count": 821,
   "id": "9b114ebb",
   "metadata": {},
   "outputs": [
    {
     "name": "stdout",
     "output_type": "stream",
     "text": [
      "4  Trip\n"
     ]
    }
   ],
   "source": [
    "print(df[(df['START*']=='Fort Pierce') & (df['STOP*']=='Fort Pierce')]['KM*'].count(),' Trip')"
   ]
  },
  {
   "cell_type": "markdown",
   "id": "6cc82325",
   "metadata": {},
   "source": [
    "## Q5 <font color='green'> How many Trips in every start city and visualize the top 10"
   ]
  },
  {
   "cell_type": "code",
   "execution_count": 822,
   "id": "70df3336",
   "metadata": {},
   "outputs": [],
   "source": [
    "TOP_10=df['START*'].value_counts().sort_values(ascending=False).head(10)"
   ]
  },
  {
   "cell_type": "code",
   "execution_count": 823,
   "id": "b1eda46f",
   "metadata": {},
   "outputs": [
    {
     "data": {
      "text/plain": [
       "Cary              201\n",
       "Granta            148\n",
       "Morrisville        85\n",
       "Whitebridge        68\n",
       "Islamabad          57\n",
       "Lahore             36\n",
       "Durham             36\n",
       "Raleigh            28\n",
       "Kar?chi            27\n",
       "Westpark Place     17\n",
       "Name: START*, dtype: int64"
      ]
     },
     "execution_count": 823,
     "metadata": {},
     "output_type": "execute_result"
    }
   ],
   "source": [
    "TOP_10"
   ]
  },
  {
   "cell_type": "code",
   "execution_count": 824,
   "id": "4d682c33",
   "metadata": {},
   "outputs": [],
   "source": [
    "idx=df['START*'].value_counts().sort_values(ascending=False).head(10).index"
   ]
  },
  {
   "cell_type": "code",
   "execution_count": 825,
   "id": "1f4400a3",
   "metadata": {},
   "outputs": [
    {
     "data": {
      "text/plain": [
       "Index(['Cary', 'Granta', 'Morrisville', 'Whitebridge', 'Islamabad', 'Lahore',\n",
       "       'Durham', 'Raleigh', 'Kar?chi', 'Westpark Place'],\n",
       "      dtype='object')"
      ]
     },
     "execution_count": 825,
     "metadata": {},
     "output_type": "execute_result"
    }
   ],
   "source": [
    "idx"
   ]
  },
  {
   "cell_type": "code",
   "execution_count": 826,
   "id": "afaddd9b",
   "metadata": {},
   "outputs": [],
   "source": [
    "df_top_10_start=df[df['START*'].isin(idx)]"
   ]
  },
  {
   "cell_type": "code",
   "execution_count": 827,
   "id": "18c60469",
   "metadata": {},
   "outputs": [
    {
     "data": {
      "text/plain": [
       "<AxesSubplot:xlabel='START*', ylabel='count'>"
      ]
     },
     "execution_count": 827,
     "metadata": {},
     "output_type": "execute_result"
    },
    {
     "data": {
      "image/png": "[encoded data removed]",
      "text/plain": [
       "<Figure size 1080x576 with 1 Axes>"
      ]
     },
     "metadata": {},
     "output_type": "display_data"
    }
   ],
   "source": [
    "sns.countplot(data=df_top_10_start,x='START*', order=idx)"
   ]
  },
  {
   "cell_type": "markdown",
   "id": "78014ad3",
   "metadata": {},
   "source": [
    "## Q6 <font color='green'>How many trips driven in all Months of year and visualize the top 4 month descening"
   ]
  },
  {
   "cell_type": "code",
   "execution_count": 828,
   "id": "2f9d6505",
   "metadata": {},
   "outputs": [],
   "source": [
    "idx=df['month'].value_counts().sort_values().head(4).index"
   ]
  },
  {
   "cell_type": "code",
   "execution_count": 829,
   "id": "41dbd9b0",
   "metadata": {},
   "outputs": [
    {
     "data": {
      "text/plain": [
       "Index(['Sep', 'May', 'Apr', 'Jan'], dtype='object')"
      ]
     },
     "execution_count": 829,
     "metadata": {},
     "output_type": "execute_result"
    }
   ],
   "source": [
    "idx"
   ]
  },
  {
   "cell_type": "code",
   "execution_count": 830,
   "id": "a6178f58",
   "metadata": {},
   "outputs": [],
   "source": [
    "df_top4=df[df['month'].isin(idx)]"
   ]
  },
  {
   "cell_type": "code",
   "execution_count": 831,
   "id": "cf2130b7",
   "metadata": {},
   "outputs": [
    {
     "data": {
      "text/html": [
       "<div>\n",
       "<style scoped>\n",
       "    .dataframe tbody tr th:only-of-type {\n",
       "        vertical-align: middle;\n",
       "    }\n",
       "\n",
       "    .dataframe tbody tr th {\n",
       "        vertical-align: top;\n",
       "    }\n",
       "\n",
       "    .dataframe thead th {\n",
       "        text-align: right;\n",
       "    }\n",
       "</style>\n",
       "<table border=\"1\" class=\"dataframe\">\n",
       "  <thead>\n",
       "    <tr style=\"text-align: right;\">\n",
       "      <th></th>\n",
       "      <th>START_DATE*</th>\n",
       "      <th>END_DATE*</th>\n",
       "      <th>CATEGORY*</th>\n",
       "      <th>START*</th>\n",
       "      <th>STOP*</th>\n",
       "      <th>KM*</th>\n",
       "      <th>DURATION*</th>\n",
       "      <th>year</th>\n",
       "      <th>month</th>\n",
       "      <th>day_name</th>\n",
       "      <th>day</th>\n",
       "      <th>period</th>\n",
       "      <th>speed*</th>\n",
       "    </tr>\n",
       "  </thead>\n",
       "  <tbody>\n",
       "    <tr>\n",
       "      <th>0</th>\n",
       "      <td>2016-01-01 21:11:00</td>\n",
       "      <td>2016-01-01 21:17:00</td>\n",
       "      <td>Business</td>\n",
       "      <td>Fort Pierce</td>\n",
       "      <td>Fort Pierce</td>\n",
       "      <td>8.21</td>\n",
       "      <td>6.0</td>\n",
       "      <td>2016</td>\n",
       "      <td>Jan</td>\n",
       "      <td>Friday</td>\n",
       "      <td>1</td>\n",
       "      <td>Morning</td>\n",
       "      <td>1.37</td>\n",
       "    </tr>\n",
       "    <tr>\n",
       "      <th>1</th>\n",
       "      <td>2016-01-02 01:25:00</td>\n",
       "      <td>2016-01-02 01:37:00</td>\n",
       "      <td>Business</td>\n",
       "      <td>Fort Pierce</td>\n",
       "      <td>Fort Pierce</td>\n",
       "      <td>8.05</td>\n",
       "      <td>12.0</td>\n",
       "      <td>2016</td>\n",
       "      <td>Jan</td>\n",
       "      <td>Saturday</td>\n",
       "      <td>2</td>\n",
       "      <td>Morning</td>\n",
       "      <td>0.67</td>\n",
       "    </tr>\n",
       "    <tr>\n",
       "      <th>2</th>\n",
       "      <td>2016-01-02 20:25:00</td>\n",
       "      <td>2016-01-02 20:38:00</td>\n",
       "      <td>Business</td>\n",
       "      <td>Fort Pierce</td>\n",
       "      <td>Fort Pierce</td>\n",
       "      <td>7.72</td>\n",
       "      <td>13.0</td>\n",
       "      <td>2016</td>\n",
       "      <td>Jan</td>\n",
       "      <td>Saturday</td>\n",
       "      <td>2</td>\n",
       "      <td>Morning</td>\n",
       "      <td>0.59</td>\n",
       "    </tr>\n",
       "    <tr>\n",
       "      <th>3</th>\n",
       "      <td>2016-01-05 17:31:00</td>\n",
       "      <td>2016-01-05 17:45:00</td>\n",
       "      <td>Business</td>\n",
       "      <td>Fort Pierce</td>\n",
       "      <td>Fort Pierce</td>\n",
       "      <td>7.56</td>\n",
       "      <td>14.0</td>\n",
       "      <td>2016</td>\n",
       "      <td>Jan</td>\n",
       "      <td>Tuesday</td>\n",
       "      <td>5</td>\n",
       "      <td>Morning</td>\n",
       "      <td>0.54</td>\n",
       "    </tr>\n",
       "    <tr>\n",
       "      <th>4</th>\n",
       "      <td>2016-01-06 14:42:00</td>\n",
       "      <td>2016-01-06 15:49:00</td>\n",
       "      <td>Business</td>\n",
       "      <td>Fort Pierce</td>\n",
       "      <td>West Palm Beach</td>\n",
       "      <td>102.51</td>\n",
       "      <td>67.0</td>\n",
       "      <td>2016</td>\n",
       "      <td>Jan</td>\n",
       "      <td>Wednesday</td>\n",
       "      <td>6</td>\n",
       "      <td>Morning</td>\n",
       "      <td>1.53</td>\n",
       "    </tr>\n",
       "    <tr>\n",
       "      <th>...</th>\n",
       "      <td>...</td>\n",
       "      <td>...</td>\n",
       "      <td>...</td>\n",
       "      <td>...</td>\n",
       "      <td>...</td>\n",
       "      <td>...</td>\n",
       "      <td>...</td>\n",
       "      <td>...</td>\n",
       "      <td>...</td>\n",
       "      <td>...</td>\n",
       "      <td>...</td>\n",
       "      <td>...</td>\n",
       "      <td>...</td>\n",
       "    </tr>\n",
       "    <tr>\n",
       "      <th>776</th>\n",
       "      <td>2016-09-27 21:01:00</td>\n",
       "      <td>2016-09-28 02:37:00</td>\n",
       "      <td>Business</td>\n",
       "      <td>Granta</td>\n",
       "      <td>Koamo</td>\n",
       "      <td>314.79</td>\n",
       "      <td>336.0</td>\n",
       "      <td>2016</td>\n",
       "      <td>Sep</td>\n",
       "      <td>Tuesday</td>\n",
       "      <td>27</td>\n",
       "      <td>Night</td>\n",
       "      <td>0.94</td>\n",
       "    </tr>\n",
       "    <tr>\n",
       "      <th>777</th>\n",
       "      <td>2016-09-28 17:21:00</td>\n",
       "      <td>2016-09-28 19:36:00</td>\n",
       "      <td>Business</td>\n",
       "      <td>Islamabad</td>\n",
       "      <td>Koamo</td>\n",
       "      <td>32.99</td>\n",
       "      <td>135.0</td>\n",
       "      <td>2016</td>\n",
       "      <td>Sep</td>\n",
       "      <td>Wednesday</td>\n",
       "      <td>28</td>\n",
       "      <td>Night</td>\n",
       "      <td>0.24</td>\n",
       "    </tr>\n",
       "    <tr>\n",
       "      <th>778</th>\n",
       "      <td>2016-09-29 16:13:00</td>\n",
       "      <td>2016-09-29 18:47:00</td>\n",
       "      <td>Business</td>\n",
       "      <td>Granta</td>\n",
       "      <td>Islamabad</td>\n",
       "      <td>20.28</td>\n",
       "      <td>154.0</td>\n",
       "      <td>2016</td>\n",
       "      <td>Sep</td>\n",
       "      <td>Thursday</td>\n",
       "      <td>29</td>\n",
       "      <td>Night</td>\n",
       "      <td>0.13</td>\n",
       "    </tr>\n",
       "    <tr>\n",
       "      <th>779</th>\n",
       "      <td>2016-09-30 17:39:00</td>\n",
       "      <td>2016-09-30 20:20:00</td>\n",
       "      <td>Business</td>\n",
       "      <td>Islamabad</td>\n",
       "      <td>Islamabad</td>\n",
       "      <td>60.67</td>\n",
       "      <td>161.0</td>\n",
       "      <td>2016</td>\n",
       "      <td>Sep</td>\n",
       "      <td>Friday</td>\n",
       "      <td>30</td>\n",
       "      <td>Night</td>\n",
       "      <td>0.38</td>\n",
       "    </tr>\n",
       "    <tr>\n",
       "      <th>780</th>\n",
       "      <td>2016-09-30 20:59:00</td>\n",
       "      <td>2016-09-30 22:34:00</td>\n",
       "      <td>Business</td>\n",
       "      <td>Islamabad</td>\n",
       "      <td>Koamo</td>\n",
       "      <td>26.88</td>\n",
       "      <td>95.0</td>\n",
       "      <td>2016</td>\n",
       "      <td>Sep</td>\n",
       "      <td>Friday</td>\n",
       "      <td>30</td>\n",
       "      <td>Night</td>\n",
       "      <td>0.28</td>\n",
       "    </tr>\n",
       "  </tbody>\n",
       "</table>\n",
       "<p>200 rows × 13 columns</p>\n",
       "</div>"
      ],
      "text/plain": [
       "            START_DATE*           END_DATE* CATEGORY*       START*  \\\n",
       "0   2016-01-01 21:11:00 2016-01-01 21:17:00  Business  Fort Pierce   \n",
       "1   2016-01-02 01:25:00 2016-01-02 01:37:00  Business  Fort Pierce   \n",
       "2   2016-01-02 20:25:00 2016-01-02 20:38:00  Business  Fort Pierce   \n",
       "3   2016-01-05 17:31:00 2016-01-05 17:45:00  Business  Fort Pierce   \n",
       "4   2016-01-06 14:42:00 2016-01-06 15:49:00  Business  Fort Pierce   \n",
       "..                  ...                 ...       ...          ...   \n",
       "776 2016-09-27 21:01:00 2016-09-28 02:37:00  Business       Granta   \n",
       "777 2016-09-28 17:21:00 2016-09-28 19:36:00  Business    Islamabad   \n",
       "778 2016-09-29 16:13:00 2016-09-29 18:47:00  Business       Granta   \n",
       "779 2016-09-30 17:39:00 2016-09-30 20:20:00  Business    Islamabad   \n",
       "780 2016-09-30 20:59:00 2016-09-30 22:34:00  Business    Islamabad   \n",
       "\n",
       "               STOP*     KM*  DURATION*  year month   day_name  day   period  \\\n",
       "0        Fort Pierce    8.21        6.0  2016   Jan     Friday    1  Morning   \n",
       "1        Fort Pierce    8.05       12.0  2016   Jan   Saturday    2  Morning   \n",
       "2        Fort Pierce    7.72       13.0  2016   Jan   Saturday    2  Morning   \n",
       "3        Fort Pierce    7.56       14.0  2016   Jan    Tuesday    5  Morning   \n",
       "4    West Palm Beach  102.51       67.0  2016   Jan  Wednesday    6  Morning   \n",
       "..               ...     ...        ...   ...   ...        ...  ...      ...   \n",
       "776            Koamo  314.79      336.0  2016   Sep    Tuesday   27    Night   \n",
       "777            Koamo   32.99      135.0  2016   Sep  Wednesday   28    Night   \n",
       "778        Islamabad   20.28      154.0  2016   Sep   Thursday   29    Night   \n",
       "779        Islamabad   60.67      161.0  2016   Sep     Friday   30    Night   \n",
       "780            Koamo   26.88       95.0  2016   Sep     Friday   30    Night   \n",
       "\n",
       "     speed*  \n",
       "0      1.37  \n",
       "1      0.67  \n",
       "2      0.59  \n",
       "3      0.54  \n",
       "4      1.53  \n",
       "..      ...  \n",
       "776    0.94  \n",
       "777    0.24  \n",
       "778    0.13  \n",
       "779    0.38  \n",
       "780    0.28  \n",
       "\n",
       "[200 rows x 13 columns]"
      ]
     },
     "execution_count": 831,
     "metadata": {},
     "output_type": "execute_result"
    }
   ],
   "source": [
    "df_top4"
   ]
  },
  {
   "cell_type": "code",
   "execution_count": 832,
   "id": "4762a400",
   "metadata": {},
   "outputs": [
    {
     "data": {
      "text/plain": [
       "Sep    36\n",
       "May    49\n",
       "Apr    54\n",
       "Jan    61\n",
       "Name: month, dtype: int64"
      ]
     },
     "execution_count": 832,
     "metadata": {},
     "output_type": "execute_result"
    }
   ],
   "source": [
    "df['month'].value_counts().sort_values().head(4)"
   ]
  },
  {
   "cell_type": "code",
   "execution_count": 833,
   "id": "46caac06",
   "metadata": {},
   "outputs": [
    {
     "data": {
      "text/plain": [
       "Text(1.0, 1.0, 'Top 4 Trip happens per month')"
      ]
     },
     "execution_count": 833,
     "metadata": {},
     "output_type": "execute_result"
    },
    {
     "data": {
      "image/png": "[encoded data removed]",
      "text/plain": [
       "<Figure size 1080x576 with 1 Axes>"
      ]
     },
     "metadata": {},
     "output_type": "display_data"
    }
   ],
   "source": [
    "sns.countplot(data=df_top4, x='month' , palette='dark',order=idx)\n",
    "plt.title('Top 4 Trip happens per month', size=15, color='b' , loc='right')"
   ]
  },
  {
   "cell_type": "markdown",
   "id": "db642457",
   "metadata": {},
   "source": [
    "## Q7  <font color='green'>How many trips driven in all days of week "
   ]
  },
  {
   "cell_type": "code",
   "execution_count": 834,
   "id": "eb0165c0",
   "metadata": {},
   "outputs": [
    {
     "data": {
      "text/plain": [
       "Friday       206\n",
       "Tuesday      175\n",
       "Monday       174\n",
       "Thursday     154\n",
       "Saturday     150\n",
       "Sunday       148\n",
       "Wednesday    147\n",
       "Name: day_name, dtype: int64"
      ]
     },
     "execution_count": 834,
     "metadata": {},
     "output_type": "execute_result"
    }
   ],
   "source": [
    "df['day_name'].value_counts().sort_values(ascending=False)"
   ]
  },
  {
   "cell_type": "code",
   "execution_count": 835,
   "id": "5e367907",
   "metadata": {},
   "outputs": [
    {
     "data": {
      "text/plain": [
       "<AxesSubplot:xlabel='day_name', ylabel='count'>"
      ]
     },
     "execution_count": 835,
     "metadata": {},
     "output_type": "execute_result"
    },
    {
     "data": {
      "image/png": "[encoded data removed]",
      "text/plain": [
       "<Figure size 1080x576 with 1 Axes>"
      ]
     },
     "metadata": {},
     "output_type": "display_data"
    }
   ],
   "source": [
    "sns.countplot(data=df, x='day_name', order=df['day_name'].value_counts().sort_values(ascending=False).index)"
   ]
  },
  {
   "cell_type": "markdown",
   "id": "df70c8b4",
   "metadata": {},
   "source": [
    "## Q8 <font color='green'>  How many KMS driven in all period of the day and visualiaze them descending"
   ]
  },
  {
   "cell_type": "code",
   "execution_count": 836,
   "id": "f437b398",
   "metadata": {},
   "outputs": [
    {
     "data": {
      "text/plain": [
       "Index(['START_DATE*', 'END_DATE*', 'CATEGORY*', 'START*', 'STOP*', 'KM*',\n",
       "       'DURATION*', 'year', 'month', 'day_name', 'day', 'period', 'speed*'],\n",
       "      dtype='object')"
      ]
     },
     "execution_count": 836,
     "metadata": {},
     "output_type": "execute_result"
    }
   ],
   "source": [
    "df.columns"
   ]
  },
  {
   "cell_type": "code",
   "execution_count": 837,
   "id": "e1850aa4",
   "metadata": {},
   "outputs": [
    {
     "data": {
      "text/plain": [
       "Text(1.0, 1.0, 'The KMS per days of each period')"
      ]
     },
     "execution_count": 837,
     "metadata": {},
     "output_type": "execute_result"
    },
    {
     "data": {
      "image/png": "[encoded data removed]",
      "text/plain": [
       "<Figure size 1080x576 with 1 Axes>"
      ]
     },
     "metadata": {},
     "output_type": "display_data"
    }
   ],
   "source": [
    "sns.barplot(data=df,x='day_name', y='KM*', hue='period', estimator=sum\n",
    "            , order=['Saturday','Sunday','Monday','Tuesday','Wednesday','Thursday','Friday'])\n",
    "plt.title(\"The KMS per days of each period\", loc='right', color='g', size=15)"
   ]
  },
  {
   "cell_type": "code",
   "execution_count": 838,
   "id": "5e986348",
   "metadata": {},
   "outputs": [
    {
     "data": {
      "text/html": [
       "<div>\n",
       "<style scoped>\n",
       "    .dataframe tbody tr th:only-of-type {\n",
       "        vertical-align: middle;\n",
       "    }\n",
       "\n",
       "    .dataframe tbody tr th {\n",
       "        vertical-align: top;\n",
       "    }\n",
       "\n",
       "    .dataframe thead th {\n",
       "        text-align: right;\n",
       "    }\n",
       "</style>\n",
       "<table border=\"1\" class=\"dataframe\">\n",
       "  <thead>\n",
       "    <tr style=\"text-align: right;\">\n",
       "      <th>period</th>\n",
       "      <th>Afternoon</th>\n",
       "      <th>Evening</th>\n",
       "      <th>Morning</th>\n",
       "      <th>Night</th>\n",
       "    </tr>\n",
       "    <tr>\n",
       "      <th>day</th>\n",
       "      <th></th>\n",
       "      <th></th>\n",
       "      <th></th>\n",
       "      <th></th>\n",
       "    </tr>\n",
       "  </thead>\n",
       "  <tbody>\n",
       "    <tr>\n",
       "      <th>1</th>\n",
       "      <td>NaN</td>\n",
       "      <td>NaN</td>\n",
       "      <td>532.52</td>\n",
       "      <td>NaN</td>\n",
       "    </tr>\n",
       "    <tr>\n",
       "      <th>2</th>\n",
       "      <td>NaN</td>\n",
       "      <td>NaN</td>\n",
       "      <td>986.54</td>\n",
       "      <td>NaN</td>\n",
       "    </tr>\n",
       "    <tr>\n",
       "      <th>3</th>\n",
       "      <td>NaN</td>\n",
       "      <td>NaN</td>\n",
       "      <td>496.97</td>\n",
       "      <td>NaN</td>\n",
       "    </tr>\n",
       "    <tr>\n",
       "      <th>4</th>\n",
       "      <td>NaN</td>\n",
       "      <td>NaN</td>\n",
       "      <td>414.57</td>\n",
       "      <td>NaN</td>\n",
       "    </tr>\n",
       "    <tr>\n",
       "      <th>5</th>\n",
       "      <td>NaN</td>\n",
       "      <td>NaN</td>\n",
       "      <td>331.35</td>\n",
       "      <td>NaN</td>\n",
       "    </tr>\n",
       "    <tr>\n",
       "      <th>6</th>\n",
       "      <td>NaN</td>\n",
       "      <td>NaN</td>\n",
       "      <td>833.14</td>\n",
       "      <td>NaN</td>\n",
       "    </tr>\n",
       "    <tr>\n",
       "      <th>7</th>\n",
       "      <td>NaN</td>\n",
       "      <td>NaN</td>\n",
       "      <td>402.67</td>\n",
       "      <td>NaN</td>\n",
       "    </tr>\n",
       "    <tr>\n",
       "      <th>8</th>\n",
       "      <td>NaN</td>\n",
       "      <td>NaN</td>\n",
       "      <td>383.98</td>\n",
       "      <td>NaN</td>\n",
       "    </tr>\n",
       "    <tr>\n",
       "      <th>9</th>\n",
       "      <td>NaN</td>\n",
       "      <td>NaN</td>\n",
       "      <td>380.13</td>\n",
       "      <td>NaN</td>\n",
       "    </tr>\n",
       "    <tr>\n",
       "      <th>10</th>\n",
       "      <td>NaN</td>\n",
       "      <td>NaN</td>\n",
       "      <td>444.85</td>\n",
       "      <td>NaN</td>\n",
       "    </tr>\n",
       "    <tr>\n",
       "      <th>11</th>\n",
       "      <td>NaN</td>\n",
       "      <td>NaN</td>\n",
       "      <td>544.29</td>\n",
       "      <td>NaN</td>\n",
       "    </tr>\n",
       "    <tr>\n",
       "      <th>12</th>\n",
       "      <td>NaN</td>\n",
       "      <td>NaN</td>\n",
       "      <td>402.99</td>\n",
       "      <td>NaN</td>\n",
       "    </tr>\n",
       "    <tr>\n",
       "      <th>13</th>\n",
       "      <td>344.42</td>\n",
       "      <td>NaN</td>\n",
       "      <td>NaN</td>\n",
       "      <td>NaN</td>\n",
       "    </tr>\n",
       "    <tr>\n",
       "      <th>14</th>\n",
       "      <td>811.94</td>\n",
       "      <td>NaN</td>\n",
       "      <td>NaN</td>\n",
       "      <td>NaN</td>\n",
       "    </tr>\n",
       "    <tr>\n",
       "      <th>15</th>\n",
       "      <td>412.00</td>\n",
       "      <td>NaN</td>\n",
       "      <td>NaN</td>\n",
       "      <td>NaN</td>\n",
       "    </tr>\n",
       "    <tr>\n",
       "      <th>16</th>\n",
       "      <td>573.42</td>\n",
       "      <td>NaN</td>\n",
       "      <td>NaN</td>\n",
       "      <td>NaN</td>\n",
       "    </tr>\n",
       "    <tr>\n",
       "      <th>17</th>\n",
       "      <td>952.07</td>\n",
       "      <td>NaN</td>\n",
       "      <td>NaN</td>\n",
       "      <td>NaN</td>\n",
       "    </tr>\n",
       "    <tr>\n",
       "      <th>18</th>\n",
       "      <td>394.79</td>\n",
       "      <td>NaN</td>\n",
       "      <td>NaN</td>\n",
       "      <td>NaN</td>\n",
       "    </tr>\n",
       "    <tr>\n",
       "      <th>19</th>\n",
       "      <td>NaN</td>\n",
       "      <td>884.67</td>\n",
       "      <td>NaN</td>\n",
       "      <td>NaN</td>\n",
       "    </tr>\n",
       "    <tr>\n",
       "      <th>20</th>\n",
       "      <td>NaN</td>\n",
       "      <td>744.17</td>\n",
       "      <td>NaN</td>\n",
       "      <td>NaN</td>\n",
       "    </tr>\n",
       "    <tr>\n",
       "      <th>21</th>\n",
       "      <td>NaN</td>\n",
       "      <td>NaN</td>\n",
       "      <td>NaN</td>\n",
       "      <td>721.13</td>\n",
       "    </tr>\n",
       "    <tr>\n",
       "      <th>22</th>\n",
       "      <td>NaN</td>\n",
       "      <td>NaN</td>\n",
       "      <td>NaN</td>\n",
       "      <td>710.83</td>\n",
       "    </tr>\n",
       "    <tr>\n",
       "      <th>23</th>\n",
       "      <td>NaN</td>\n",
       "      <td>NaN</td>\n",
       "      <td>NaN</td>\n",
       "      <td>373.22</td>\n",
       "    </tr>\n",
       "    <tr>\n",
       "      <th>24</th>\n",
       "      <td>NaN</td>\n",
       "      <td>NaN</td>\n",
       "      <td>NaN</td>\n",
       "      <td>428.74</td>\n",
       "    </tr>\n",
       "    <tr>\n",
       "      <th>25</th>\n",
       "      <td>NaN</td>\n",
       "      <td>NaN</td>\n",
       "      <td>NaN</td>\n",
       "      <td>1468.19</td>\n",
       "    </tr>\n",
       "    <tr>\n",
       "      <th>26</th>\n",
       "      <td>NaN</td>\n",
       "      <td>NaN</td>\n",
       "      <td>NaN</td>\n",
       "      <td>342.94</td>\n",
       "    </tr>\n",
       "    <tr>\n",
       "      <th>27</th>\n",
       "      <td>NaN</td>\n",
       "      <td>NaN</td>\n",
       "      <td>NaN</td>\n",
       "      <td>1259.19</td>\n",
       "    </tr>\n",
       "    <tr>\n",
       "      <th>28</th>\n",
       "      <td>NaN</td>\n",
       "      <td>NaN</td>\n",
       "      <td>NaN</td>\n",
       "      <td>1086.97</td>\n",
       "    </tr>\n",
       "    <tr>\n",
       "      <th>29</th>\n",
       "      <td>NaN</td>\n",
       "      <td>NaN</td>\n",
       "      <td>NaN</td>\n",
       "      <td>706.66</td>\n",
       "    </tr>\n",
       "    <tr>\n",
       "      <th>30</th>\n",
       "      <td>NaN</td>\n",
       "      <td>NaN</td>\n",
       "      <td>NaN</td>\n",
       "      <td>972.18</td>\n",
       "    </tr>\n",
       "    <tr>\n",
       "      <th>31</th>\n",
       "      <td>NaN</td>\n",
       "      <td>NaN</td>\n",
       "      <td>NaN</td>\n",
       "      <td>284.22</td>\n",
       "    </tr>\n",
       "  </tbody>\n",
       "</table>\n",
       "</div>"
      ],
      "text/plain": [
       "period  Afternoon  Evening  Morning    Night\n",
       "day                                         \n",
       "1             NaN      NaN   532.52      NaN\n",
       "2             NaN      NaN   986.54      NaN\n",
       "3             NaN      NaN   496.97      NaN\n",
       "4             NaN      NaN   414.57      NaN\n",
       "5             NaN      NaN   331.35      NaN\n",
       "6             NaN      NaN   833.14      NaN\n",
       "7             NaN      NaN   402.67      NaN\n",
       "8             NaN      NaN   383.98      NaN\n",
       "9             NaN      NaN   380.13      NaN\n",
       "10            NaN      NaN   444.85      NaN\n",
       "11            NaN      NaN   544.29      NaN\n",
       "12            NaN      NaN   402.99      NaN\n",
       "13         344.42      NaN      NaN      NaN\n",
       "14         811.94      NaN      NaN      NaN\n",
       "15         412.00      NaN      NaN      NaN\n",
       "16         573.42      NaN      NaN      NaN\n",
       "17         952.07      NaN      NaN      NaN\n",
       "18         394.79      NaN      NaN      NaN\n",
       "19            NaN   884.67      NaN      NaN\n",
       "20            NaN   744.17      NaN      NaN\n",
       "21            NaN      NaN      NaN   721.13\n",
       "22            NaN      NaN      NaN   710.83\n",
       "23            NaN      NaN      NaN   373.22\n",
       "24            NaN      NaN      NaN   428.74\n",
       "25            NaN      NaN      NaN  1468.19\n",
       "26            NaN      NaN      NaN   342.94\n",
       "27            NaN      NaN      NaN  1259.19\n",
       "28            NaN      NaN      NaN  1086.97\n",
       "29            NaN      NaN      NaN   706.66\n",
       "30            NaN      NaN      NaN   972.18\n",
       "31            NaN      NaN      NaN   284.22"
      ]
     },
     "execution_count": 838,
     "metadata": {},
     "output_type": "execute_result"
    }
   ],
   "source": [
    "pd.pivot_table(data=df,index='day',columns='period', values='KM*', aggfunc=sum)"
   ]
  },
  {
   "cell_type": "markdown",
   "id": "719bc76b",
   "metadata": {},
   "source": [
    "## Q9 <font color='green'> For each period for each category which has most driven count"
   ]
  },
  {
   "cell_type": "code",
   "execution_count": 839,
   "id": "97297d05",
   "metadata": {},
   "outputs": [],
   "source": [
    "df['dummy']=1"
   ]
  },
  {
   "cell_type": "code",
   "execution_count": 840,
   "id": "c30160b8",
   "metadata": {},
   "outputs": [
    {
     "data": {
      "text/html": [
       "<div>\n",
       "<style scoped>\n",
       "    .dataframe tbody tr th:only-of-type {\n",
       "        vertical-align: middle;\n",
       "    }\n",
       "\n",
       "    .dataframe tbody tr th {\n",
       "        vertical-align: top;\n",
       "    }\n",
       "\n",
       "    .dataframe thead th {\n",
       "        text-align: right;\n",
       "    }\n",
       "</style>\n",
       "<table border=\"1\" class=\"dataframe\">\n",
       "  <thead>\n",
       "    <tr style=\"text-align: right;\">\n",
       "      <th>period</th>\n",
       "      <th>Afternoon</th>\n",
       "      <th>Evening</th>\n",
       "      <th>Morning</th>\n",
       "      <th>Night</th>\n",
       "    </tr>\n",
       "    <tr>\n",
       "      <th>CATEGORY*</th>\n",
       "      <th></th>\n",
       "      <th></th>\n",
       "      <th></th>\n",
       "      <th></th>\n",
       "    </tr>\n",
       "  </thead>\n",
       "  <tbody>\n",
       "    <tr>\n",
       "      <th>Business</th>\n",
       "      <td>184</td>\n",
       "      <td>92</td>\n",
       "      <td>407</td>\n",
       "      <td>394</td>\n",
       "    </tr>\n",
       "    <tr>\n",
       "      <th>Personal</th>\n",
       "      <td>27</td>\n",
       "      <td>13</td>\n",
       "      <td>14</td>\n",
       "      <td>23</td>\n",
       "    </tr>\n",
       "  </tbody>\n",
       "</table>\n",
       "</div>"
      ],
      "text/plain": [
       "period     Afternoon  Evening  Morning  Night\n",
       "CATEGORY*                                    \n",
       "Business         184       92      407    394\n",
       "Personal          27       13       14     23"
      ]
     },
     "execution_count": 840,
     "metadata": {},
     "output_type": "execute_result"
    }
   ],
   "source": [
    "pd.pivot_table(data=df,index='CATEGORY*',columns='period',values='dummy', aggfunc='count')"
   ]
  },
  {
   "cell_type": "code",
   "execution_count": 841,
   "id": "03468384",
   "metadata": {},
   "outputs": [
    {
     "data": {
      "text/plain": [
       "<AxesSubplot:xlabel='CATEGORY*', ylabel='count'>"
      ]
     },
     "execution_count": 841,
     "metadata": {},
     "output_type": "execute_result"
    },
    {
     "data": {
      "image/png": "[encoded data removed]",
      "text/plain": [
       "<Figure size 1080x576 with 1 Axes>"
      ]
     },
     "metadata": {},
     "output_type": "display_data"
    }
   ],
   "source": [
    "sns.countplot(data=df, hue='period',x='CATEGORY*')"
   ]
  },
  {
   "cell_type": "markdown",
   "id": "7bb9bd1f",
   "metadata": {},
   "source": [
    "## <font color='red'> Thank You!."
   ]
  }
 ],
 "metadata": {
  "kernelspec": {
   "display_name": "Python 3 (ipykernel)",
   "language": "python",
   "name": "python3"
  },
  "language_info": {
   "codemirror_mode": {
    "name": "ipython",
    "version": 3
   },
   "file_extension": ".py",
   "mimetype": "text/x-python",
   "name": "python",
   "nbconvert_exporter": "python",
   "pygments_lexer": "ipython3",
   "version": "3.10.4"
  }
 },
 "nbformat": 4,
 "nbformat_minor": 5
}
